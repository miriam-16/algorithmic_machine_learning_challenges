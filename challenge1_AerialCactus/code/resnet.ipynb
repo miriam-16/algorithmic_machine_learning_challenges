{
  "metadata": {
    "kernelspec": {
      "name": "python3",
      "display_name": "Python 3"
    },
    "language_info": {
      "name": "python",
      "version": "3.11.11",
      "mimetype": "text/x-python",
      "codemirror_mode": {
        "name": "ipython",
        "version": 3
      },
      "pygments_lexer": "ipython3",
      "nbconvert_exporter": "python",
      "file_extension": ".py"
    },
    "kaggle": {
      "accelerator": "none",
      "dataSources": [
        {
          "sourceId": 11696839,
          "sourceType": "datasetVersion",
          "datasetId": 7341610
        },
        {
          "sourceId": 11715022,
          "sourceType": "datasetVersion",
          "datasetId": 7353538
        }
      ],
      "dockerImageVersionId": 31012,
      "isInternetEnabled": false,
      "language": "python",
      "sourceType": "notebook",
      "isGpuEnabled": false
    },
    "colab": {
      "provenance": [],
      "gpuType": "T4"
    },
    "accelerator": "GPU"
  },
  "nbformat_minor": 0,
  "nbformat": 4,
  "cells": [
    {
      "cell_type": "code",
      "source": [
        "import numpy as np # linear algebra\n",
        "import pandas as pd # data processing, CSV file I/O (e.g. pd.read_csv)\n",
        "import matplotlib.pyplot as plt\n",
        "from plotly.subplots import make_subplots\n",
        "import plotly.graph_objs as go\n",
        "import copy\n",
        "import os\n",
        "import torch\n",
        "from PIL import Image\n",
        "from PIL import Image, ImageDraw\n",
        "from torch.utils.data import Dataset\n",
        "import torchvision.transforms as transforms\n",
        "from torch.utils.data import random_split\n",
        "from torch.optim.lr_scheduler import ReduceLROnPlateau\n",
        "import torch.nn as nn\n",
        "from torchvision import utils\n",
        "%matplotlib inline"
      ],
      "metadata": {
        "execution": {
          "iopub.status.busy": "2025-05-07T13:56:58.602615Z",
          "iopub.execute_input": "2025-05-07T13:56:58.602906Z",
          "iopub.status.idle": "2025-05-07T13:57:04.976809Z",
          "shell.execute_reply.started": "2025-05-07T13:56:58.602881Z",
          "shell.execute_reply": "2025-05-07T13:57:04.975765Z"
        },
        "trusted": true,
        "id": "rpzoVHCjZEmW"
      },
      "outputs": [],
      "execution_count": 1
    },
    {
      "cell_type": "code",
      "source": [
        "!pip install --upgrade kagglehub[pandas-datasets,hf-datasets]"
      ],
      "metadata": {
        "colab": {
          "base_uri": "https://localhost:8080/"
        },
        "id": "BO19mtdiZ1jp",
        "outputId": "80661a07-fdc0-4b45-b243-897d68c3081a"
      },
      "execution_count": 3,
      "outputs": [
        {
          "output_type": "stream",
          "name": "stdout",
          "text": [
            "Requirement already satisfied: kagglehub[hf-datasets,pandas-datasets] in /usr/local/lib/python3.11/dist-packages (0.3.12)\n",
            "Requirement already satisfied: packaging in /usr/local/lib/python3.11/dist-packages (from kagglehub[hf-datasets,pandas-datasets]) (24.2)\n",
            "Requirement already satisfied: pyyaml in /usr/local/lib/python3.11/dist-packages (from kagglehub[hf-datasets,pandas-datasets]) (6.0.2)\n",
            "Requirement already satisfied: requests in /usr/local/lib/python3.11/dist-packages (from kagglehub[hf-datasets,pandas-datasets]) (2.32.3)\n",
            "Requirement already satisfied: tqdm in /usr/local/lib/python3.11/dist-packages (from kagglehub[hf-datasets,pandas-datasets]) (4.67.1)\n",
            "Collecting datasets (from kagglehub[hf-datasets,pandas-datasets])\n",
            "  Downloading datasets-3.6.0-py3-none-any.whl.metadata (19 kB)\n",
            "Requirement already satisfied: pandas in /usr/local/lib/python3.11/dist-packages (from kagglehub[hf-datasets,pandas-datasets]) (2.2.2)\n",
            "Requirement already satisfied: filelock in /usr/local/lib/python3.11/dist-packages (from datasets->kagglehub[hf-datasets,pandas-datasets]) (3.18.0)\n",
            "Requirement already satisfied: numpy>=1.17 in /usr/local/lib/python3.11/dist-packages (from datasets->kagglehub[hf-datasets,pandas-datasets]) (2.0.2)\n",
            "Requirement already satisfied: pyarrow>=15.0.0 in /usr/local/lib/python3.11/dist-packages (from datasets->kagglehub[hf-datasets,pandas-datasets]) (18.1.0)\n",
            "Collecting dill<0.3.9,>=0.3.0 (from datasets->kagglehub[hf-datasets,pandas-datasets])\n",
            "  Downloading dill-0.3.8-py3-none-any.whl.metadata (10 kB)\n",
            "Collecting xxhash (from datasets->kagglehub[hf-datasets,pandas-datasets])\n",
            "  Downloading xxhash-3.5.0-cp311-cp311-manylinux_2_17_x86_64.manylinux2014_x86_64.whl.metadata (12 kB)\n",
            "Collecting multiprocess<0.70.17 (from datasets->kagglehub[hf-datasets,pandas-datasets])\n",
            "  Downloading multiprocess-0.70.16-py311-none-any.whl.metadata (7.2 kB)\n",
            "Collecting fsspec<=2025.3.0,>=2023.1.0 (from fsspec[http]<=2025.3.0,>=2023.1.0->datasets->kagglehub[hf-datasets,pandas-datasets])\n",
            "  Downloading fsspec-2025.3.0-py3-none-any.whl.metadata (11 kB)\n",
            "Requirement already satisfied: huggingface-hub>=0.24.0 in /usr/local/lib/python3.11/dist-packages (from datasets->kagglehub[hf-datasets,pandas-datasets]) (0.30.2)\n",
            "Requirement already satisfied: charset-normalizer<4,>=2 in /usr/local/lib/python3.11/dist-packages (from requests->kagglehub[hf-datasets,pandas-datasets]) (3.4.1)\n",
            "Requirement already satisfied: idna<4,>=2.5 in /usr/local/lib/python3.11/dist-packages (from requests->kagglehub[hf-datasets,pandas-datasets]) (3.10)\n",
            "Requirement already satisfied: urllib3<3,>=1.21.1 in /usr/local/lib/python3.11/dist-packages (from requests->kagglehub[hf-datasets,pandas-datasets]) (2.4.0)\n",
            "Requirement already satisfied: certifi>=2017.4.17 in /usr/local/lib/python3.11/dist-packages (from requests->kagglehub[hf-datasets,pandas-datasets]) (2025.4.26)\n",
            "Requirement already satisfied: python-dateutil>=2.8.2 in /usr/local/lib/python3.11/dist-packages (from pandas->kagglehub[hf-datasets,pandas-datasets]) (2.9.0.post0)\n",
            "Requirement already satisfied: pytz>=2020.1 in /usr/local/lib/python3.11/dist-packages (from pandas->kagglehub[hf-datasets,pandas-datasets]) (2025.2)\n",
            "Requirement already satisfied: tzdata>=2022.7 in /usr/local/lib/python3.11/dist-packages (from pandas->kagglehub[hf-datasets,pandas-datasets]) (2025.2)\n",
            "Requirement already satisfied: aiohttp!=4.0.0a0,!=4.0.0a1 in /usr/local/lib/python3.11/dist-packages (from fsspec[http]<=2025.3.0,>=2023.1.0->datasets->kagglehub[hf-datasets,pandas-datasets]) (3.11.15)\n",
            "Requirement already satisfied: typing-extensions>=3.7.4.3 in /usr/local/lib/python3.11/dist-packages (from huggingface-hub>=0.24.0->datasets->kagglehub[hf-datasets,pandas-datasets]) (4.13.2)\n",
            "Requirement already satisfied: six>=1.5 in /usr/local/lib/python3.11/dist-packages (from python-dateutil>=2.8.2->pandas->kagglehub[hf-datasets,pandas-datasets]) (1.17.0)\n",
            "Requirement already satisfied: aiohappyeyeballs>=2.3.0 in /usr/local/lib/python3.11/dist-packages (from aiohttp!=4.0.0a0,!=4.0.0a1->fsspec[http]<=2025.3.0,>=2023.1.0->datasets->kagglehub[hf-datasets,pandas-datasets]) (2.6.1)\n",
            "Requirement already satisfied: aiosignal>=1.1.2 in /usr/local/lib/python3.11/dist-packages (from aiohttp!=4.0.0a0,!=4.0.0a1->fsspec[http]<=2025.3.0,>=2023.1.0->datasets->kagglehub[hf-datasets,pandas-datasets]) (1.3.2)\n",
            "Requirement already satisfied: attrs>=17.3.0 in /usr/local/lib/python3.11/dist-packages (from aiohttp!=4.0.0a0,!=4.0.0a1->fsspec[http]<=2025.3.0,>=2023.1.0->datasets->kagglehub[hf-datasets,pandas-datasets]) (25.3.0)\n",
            "Requirement already satisfied: frozenlist>=1.1.1 in /usr/local/lib/python3.11/dist-packages (from aiohttp!=4.0.0a0,!=4.0.0a1->fsspec[http]<=2025.3.0,>=2023.1.0->datasets->kagglehub[hf-datasets,pandas-datasets]) (1.6.0)\n",
            "Requirement already satisfied: multidict<7.0,>=4.5 in /usr/local/lib/python3.11/dist-packages (from aiohttp!=4.0.0a0,!=4.0.0a1->fsspec[http]<=2025.3.0,>=2023.1.0->datasets->kagglehub[hf-datasets,pandas-datasets]) (6.4.3)\n",
            "Requirement already satisfied: propcache>=0.2.0 in /usr/local/lib/python3.11/dist-packages (from aiohttp!=4.0.0a0,!=4.0.0a1->fsspec[http]<=2025.3.0,>=2023.1.0->datasets->kagglehub[hf-datasets,pandas-datasets]) (0.3.1)\n",
            "Requirement already satisfied: yarl<2.0,>=1.17.0 in /usr/local/lib/python3.11/dist-packages (from aiohttp!=4.0.0a0,!=4.0.0a1->fsspec[http]<=2025.3.0,>=2023.1.0->datasets->kagglehub[hf-datasets,pandas-datasets]) (1.20.0)\n",
            "Downloading datasets-3.6.0-py3-none-any.whl (491 kB)\n",
            "\u001b[2K   \u001b[90m━━━━━━━━━━━━━━━━━━━━━━━━━━━━━━━━━━━━━━━━\u001b[0m \u001b[32m491.5/491.5 kB\u001b[0m \u001b[31m16.7 MB/s\u001b[0m eta \u001b[36m0:00:00\u001b[0m\n",
            "\u001b[?25hDownloading dill-0.3.8-py3-none-any.whl (116 kB)\n",
            "\u001b[2K   \u001b[90m━━━━━━━━━━━━━━━━━━━━━━━━━━━━━━━━━━━━━━━━\u001b[0m \u001b[32m116.3/116.3 kB\u001b[0m \u001b[31m13.4 MB/s\u001b[0m eta \u001b[36m0:00:00\u001b[0m\n",
            "\u001b[?25hDownloading fsspec-2025.3.0-py3-none-any.whl (193 kB)\n",
            "\u001b[2K   \u001b[90m━━━━━━━━━━━━━━━━━━━━━━━━━━━━━━━━━━━━━━━━\u001b[0m \u001b[32m193.6/193.6 kB\u001b[0m \u001b[31m19.9 MB/s\u001b[0m eta \u001b[36m0:00:00\u001b[0m\n",
            "\u001b[?25hDownloading multiprocess-0.70.16-py311-none-any.whl (143 kB)\n",
            "\u001b[2K   \u001b[90m━━━━━━━━━━━━━━━━━━━━━━━━━━━━━━━━━━━━━━━━\u001b[0m \u001b[32m143.5/143.5 kB\u001b[0m \u001b[31m15.6 MB/s\u001b[0m eta \u001b[36m0:00:00\u001b[0m\n",
            "\u001b[?25hDownloading xxhash-3.5.0-cp311-cp311-manylinux_2_17_x86_64.manylinux2014_x86_64.whl (194 kB)\n",
            "\u001b[2K   \u001b[90m━━━━━━━━━━━━━━━━━━━━━━━━━━━━━━━━━━━━━━━━\u001b[0m \u001b[32m194.8/194.8 kB\u001b[0m \u001b[31m21.5 MB/s\u001b[0m eta \u001b[36m0:00:00\u001b[0m\n",
            "\u001b[?25hInstalling collected packages: xxhash, fsspec, dill, multiprocess, datasets\n",
            "  Attempting uninstall: fsspec\n",
            "    Found existing installation: fsspec 2025.3.2\n",
            "    Uninstalling fsspec-2025.3.2:\n",
            "      Successfully uninstalled fsspec-2025.3.2\n",
            "\u001b[31mERROR: pip's dependency resolver does not currently take into account all the packages that are installed. This behaviour is the source of the following dependency conflicts.\n",
            "gcsfs 2025.3.2 requires fsspec==2025.3.2, but you have fsspec 2025.3.0 which is incompatible.\n",
            "torch 2.6.0+cu124 requires nvidia-cublas-cu12==12.4.5.8; platform_system == \"Linux\" and platform_machine == \"x86_64\", but you have nvidia-cublas-cu12 12.5.3.2 which is incompatible.\n",
            "torch 2.6.0+cu124 requires nvidia-cuda-cupti-cu12==12.4.127; platform_system == \"Linux\" and platform_machine == \"x86_64\", but you have nvidia-cuda-cupti-cu12 12.5.82 which is incompatible.\n",
            "torch 2.6.0+cu124 requires nvidia-cuda-nvrtc-cu12==12.4.127; platform_system == \"Linux\" and platform_machine == \"x86_64\", but you have nvidia-cuda-nvrtc-cu12 12.5.82 which is incompatible.\n",
            "torch 2.6.0+cu124 requires nvidia-cuda-runtime-cu12==12.4.127; platform_system == \"Linux\" and platform_machine == \"x86_64\", but you have nvidia-cuda-runtime-cu12 12.5.82 which is incompatible.\n",
            "torch 2.6.0+cu124 requires nvidia-cudnn-cu12==9.1.0.70; platform_system == \"Linux\" and platform_machine == \"x86_64\", but you have nvidia-cudnn-cu12 9.3.0.75 which is incompatible.\n",
            "torch 2.6.0+cu124 requires nvidia-cufft-cu12==11.2.1.3; platform_system == \"Linux\" and platform_machine == \"x86_64\", but you have nvidia-cufft-cu12 11.2.3.61 which is incompatible.\n",
            "torch 2.6.0+cu124 requires nvidia-curand-cu12==10.3.5.147; platform_system == \"Linux\" and platform_machine == \"x86_64\", but you have nvidia-curand-cu12 10.3.6.82 which is incompatible.\n",
            "torch 2.6.0+cu124 requires nvidia-cusolver-cu12==11.6.1.9; platform_system == \"Linux\" and platform_machine == \"x86_64\", but you have nvidia-cusolver-cu12 11.6.3.83 which is incompatible.\n",
            "torch 2.6.0+cu124 requires nvidia-cusparse-cu12==12.3.1.170; platform_system == \"Linux\" and platform_machine == \"x86_64\", but you have nvidia-cusparse-cu12 12.5.1.3 which is incompatible.\n",
            "torch 2.6.0+cu124 requires nvidia-nvjitlink-cu12==12.4.127; platform_system == \"Linux\" and platform_machine == \"x86_64\", but you have nvidia-nvjitlink-cu12 12.5.82 which is incompatible.\u001b[0m\u001b[31m\n",
            "\u001b[0mSuccessfully installed datasets-3.6.0 dill-0.3.8 fsspec-2025.3.0 multiprocess-0.70.16 xxhash-3.5.0\n"
          ]
        }
      ]
    },
    {
      "cell_type": "code",
      "source": [
        "!apt-get install git -y\n",
        "\n",
        "!git clone https://github.com/miriam-16/aml_1_aerial_imagery.git"
      ],
      "metadata": {
        "colab": {
          "base_uri": "https://localhost:8080/"
        },
        "id": "3srSyLyZZ_mw",
        "outputId": "4a0d8e2f-1286-4979-8acd-12861f9af75e"
      },
      "execution_count": 4,
      "outputs": [
        {
          "output_type": "stream",
          "name": "stdout",
          "text": [
            "Reading package lists... Done\n",
            "Building dependency tree... Done\n",
            "Reading state information... Done\n",
            "git is already the newest version (1:2.34.1-1ubuntu1.12).\n",
            "0 upgraded, 0 newly installed, 0 to remove and 34 not upgraded.\n",
            "Cloning into 'aml_1_aerial_imagery'...\n",
            "remote: Enumerating objects: 21616, done.\u001b[K\n",
            "remote: Counting objects: 100% (21616/21616), done.\u001b[K\n",
            "remote: Compressing objects: 100% (3163/3163), done.\u001b[K\n",
            "remote: Total 21616 (delta 18457), reused 21596 (delta 18437), pack-reused 0 (from 0)\u001b[K\n",
            "Receiving objects: 100% (21616/21616), 13.31 MiB | 18.00 MiB/s, done.\n",
            "Resolving deltas: 100% (18457/18457), done.\n"
          ]
        }
      ]
    },
    {
      "cell_type": "code",
      "source": [
        "path = \"/content/aml_1_aerial_imagery/dataset\"\n",
        "import pandas as pd\n",
        "\n",
        "labels_df = pd.read_csv(path+'/train.csv')  # Adjust filename\n",
        "print(labels_df.head())"
      ],
      "metadata": {
        "trusted": true,
        "colab": {
          "base_uri": "https://localhost:8080/"
        },
        "id": "frefrhSVZEmY",
        "outputId": "063a8207-e7e4-41aa-9e50-35fa897b3fc1"
      },
      "outputs": [
        {
          "output_type": "stream",
          "name": "stdout",
          "text": [
            "                                     id  has_cactus\n",
            "0  0004be2cfeaba1c0361d39e2b000257b.jpg           1\n",
            "1  000c8a36845c0208e833c79c1bffedd1.jpg           1\n",
            "2  000d1e9a533f62e55c289303b072733d.jpg           1\n",
            "3  0011485b40695e9138e92d0b3fb55128.jpg           1\n",
            "4  0014d7a11e90b62848904c1418fc8cf2.jpg           1\n"
          ]
        }
      ],
      "execution_count": 7
    },
    {
      "cell_type": "code",
      "source": [
        "print(labels_df.shape)\n",
        "labels_df[labels_df.duplicated(keep=False)]"
      ],
      "metadata": {
        "execution": {
          "iopub.status.busy": "2025-05-07T08:41:48.726189Z",
          "iopub.execute_input": "2025-05-07T08:41:48.726632Z",
          "iopub.status.idle": "2025-05-07T08:41:48.764831Z",
          "shell.execute_reply.started": "2025-05-07T08:41:48.726598Z",
          "shell.execute_reply": "2025-05-07T08:41:48.763984Z"
        },
        "trusted": true,
        "colab": {
          "base_uri": "https://localhost:8080/",
          "height": 71
        },
        "id": "sl4bD7kLZEmZ",
        "outputId": "667e5584-ad80-45ab-cba3-9bfa296adf0d"
      },
      "outputs": [
        {
          "output_type": "stream",
          "name": "stdout",
          "text": [
            "(17500, 2)\n"
          ]
        },
        {
          "output_type": "execute_result",
          "data": {
            "text/plain": [
              "Empty DataFrame\n",
              "Columns: [id, has_cactus]\n",
              "Index: []"
            ],
            "text/html": [
              "\n",
              "  <div id=\"df-917be2d6-af5a-4d93-af4f-b83b16137a5f\" class=\"colab-df-container\">\n",
              "    <div>\n",
              "<style scoped>\n",
              "    .dataframe tbody tr th:only-of-type {\n",
              "        vertical-align: middle;\n",
              "    }\n",
              "\n",
              "    .dataframe tbody tr th {\n",
              "        vertical-align: top;\n",
              "    }\n",
              "\n",
              "    .dataframe thead th {\n",
              "        text-align: right;\n",
              "    }\n",
              "</style>\n",
              "<table border=\"1\" class=\"dataframe\">\n",
              "  <thead>\n",
              "    <tr style=\"text-align: right;\">\n",
              "      <th></th>\n",
              "      <th>id</th>\n",
              "      <th>has_cactus</th>\n",
              "    </tr>\n",
              "  </thead>\n",
              "  <tbody>\n",
              "  </tbody>\n",
              "</table>\n",
              "</div>\n",
              "    <div class=\"colab-df-buttons\">\n",
              "\n",
              "  <div class=\"colab-df-container\">\n",
              "    <button class=\"colab-df-convert\" onclick=\"convertToInteractive('df-917be2d6-af5a-4d93-af4f-b83b16137a5f')\"\n",
              "            title=\"Convert this dataframe to an interactive table.\"\n",
              "            style=\"display:none;\">\n",
              "\n",
              "  <svg xmlns=\"http://www.w3.org/2000/svg\" height=\"24px\" viewBox=\"0 -960 960 960\">\n",
              "    <path d=\"M120-120v-720h720v720H120Zm60-500h600v-160H180v160Zm220 220h160v-160H400v160Zm0 220h160v-160H400v160ZM180-400h160v-160H180v160Zm440 0h160v-160H620v160ZM180-180h160v-160H180v160Zm440 0h160v-160H620v160Z\"/>\n",
              "  </svg>\n",
              "    </button>\n",
              "\n",
              "  <style>\n",
              "    .colab-df-container {\n",
              "      display:flex;\n",
              "      gap: 12px;\n",
              "    }\n",
              "\n",
              "    .colab-df-convert {\n",
              "      background-color: #E8F0FE;\n",
              "      border: none;\n",
              "      border-radius: 50%;\n",
              "      cursor: pointer;\n",
              "      display: none;\n",
              "      fill: #1967D2;\n",
              "      height: 32px;\n",
              "      padding: 0 0 0 0;\n",
              "      width: 32px;\n",
              "    }\n",
              "\n",
              "    .colab-df-convert:hover {\n",
              "      background-color: #E2EBFA;\n",
              "      box-shadow: 0px 1px 2px rgba(60, 64, 67, 0.3), 0px 1px 3px 1px rgba(60, 64, 67, 0.15);\n",
              "      fill: #174EA6;\n",
              "    }\n",
              "\n",
              "    .colab-df-buttons div {\n",
              "      margin-bottom: 4px;\n",
              "    }\n",
              "\n",
              "    [theme=dark] .colab-df-convert {\n",
              "      background-color: #3B4455;\n",
              "      fill: #D2E3FC;\n",
              "    }\n",
              "\n",
              "    [theme=dark] .colab-df-convert:hover {\n",
              "      background-color: #434B5C;\n",
              "      box-shadow: 0px 1px 3px 1px rgba(0, 0, 0, 0.15);\n",
              "      filter: drop-shadow(0px 1px 2px rgba(0, 0, 0, 0.3));\n",
              "      fill: #FFFFFF;\n",
              "    }\n",
              "  </style>\n",
              "\n",
              "    <script>\n",
              "      const buttonEl =\n",
              "        document.querySelector('#df-917be2d6-af5a-4d93-af4f-b83b16137a5f button.colab-df-convert');\n",
              "      buttonEl.style.display =\n",
              "        google.colab.kernel.accessAllowed ? 'block' : 'none';\n",
              "\n",
              "      async function convertToInteractive(key) {\n",
              "        const element = document.querySelector('#df-917be2d6-af5a-4d93-af4f-b83b16137a5f');\n",
              "        const dataTable =\n",
              "          await google.colab.kernel.invokeFunction('convertToInteractive',\n",
              "                                                    [key], {});\n",
              "        if (!dataTable) return;\n",
              "\n",
              "        const docLinkHtml = 'Like what you see? Visit the ' +\n",
              "          '<a target=\"_blank\" href=https://colab.research.google.com/notebooks/data_table.ipynb>data table notebook</a>'\n",
              "          + ' to learn more about interactive tables.';\n",
              "        element.innerHTML = '';\n",
              "        dataTable['output_type'] = 'display_data';\n",
              "        await google.colab.output.renderOutput(dataTable, element);\n",
              "        const docLink = document.createElement('div');\n",
              "        docLink.innerHTML = docLinkHtml;\n",
              "        element.appendChild(docLink);\n",
              "      }\n",
              "    </script>\n",
              "  </div>\n",
              "\n",
              "\n",
              "    </div>\n",
              "  </div>\n"
            ],
            "application/vnd.google.colaboratory.intrinsic+json": {
              "type": "dataframe",
              "repr_error": "Out of range float values are not JSON compliant: nan"
            }
          },
          "metadata": {},
          "execution_count": 8
        }
      ],
      "execution_count": 8
    },
    {
      "cell_type": "code",
      "source": [
        "labels_df['has_cactus'].value_counts()"
      ],
      "metadata": {
        "execution": {
          "iopub.status.busy": "2025-05-07T08:41:48.766284Z",
          "iopub.execute_input": "2025-05-07T08:41:48.766608Z",
          "iopub.status.idle": "2025-05-07T08:41:48.777412Z",
          "shell.execute_reply.started": "2025-05-07T08:41:48.766585Z",
          "shell.execute_reply": "2025-05-07T08:41:48.776432Z"
        },
        "trusted": true,
        "colab": {
          "base_uri": "https://localhost:8080/",
          "height": 178
        },
        "id": "faWf_Cp8ZEmZ",
        "outputId": "6a5fbbd0-7979-46d0-fe45-5b8b903176a1"
      },
      "outputs": [
        {
          "output_type": "execute_result",
          "data": {
            "text/plain": [
              "has_cactus\n",
              "1    13136\n",
              "0     4364\n",
              "Name: count, dtype: int64"
            ],
            "text/html": [
              "<div>\n",
              "<style scoped>\n",
              "    .dataframe tbody tr th:only-of-type {\n",
              "        vertical-align: middle;\n",
              "    }\n",
              "\n",
              "    .dataframe tbody tr th {\n",
              "        vertical-align: top;\n",
              "    }\n",
              "\n",
              "    .dataframe thead th {\n",
              "        text-align: right;\n",
              "    }\n",
              "</style>\n",
              "<table border=\"1\" class=\"dataframe\">\n",
              "  <thead>\n",
              "    <tr style=\"text-align: right;\">\n",
              "      <th></th>\n",
              "      <th>count</th>\n",
              "    </tr>\n",
              "    <tr>\n",
              "      <th>has_cactus</th>\n",
              "      <th></th>\n",
              "    </tr>\n",
              "  </thead>\n",
              "  <tbody>\n",
              "    <tr>\n",
              "      <th>1</th>\n",
              "      <td>13136</td>\n",
              "    </tr>\n",
              "    <tr>\n",
              "      <th>0</th>\n",
              "      <td>4364</td>\n",
              "    </tr>\n",
              "  </tbody>\n",
              "</table>\n",
              "</div><br><label><b>dtype:</b> int64</label>"
            ]
          },
          "metadata": {},
          "execution_count": 9
        }
      ],
      "execution_count": 9
    },
    {
      "cell_type": "code",
      "source": [
        "import torch\n",
        "torch.manual_seed(0)\n",
        "\n",
        "from torch.utils.data import Dataset\n",
        "import os\n",
        "import pandas as pd\n",
        "from PIL import Image\n",
        "import torchvision.transforms as transforms\n",
        "\n",
        "class pytorch_data(Dataset):\n",
        "\n",
        "    def __init__(self, data_dir, transform, data_type=\"train\"):\n",
        "        # Get Image File Names\n",
        "        cdm_data = os.path.join(data_dir, data_type)\n",
        "        file_names = os.listdir(cdm_data)\n",
        "\n",
        "        all_image_paths = [os.path.join(cdm_data, f) for f in file_names if f.lower().endswith(('.jpg', '.png', '.jpeg'))]\n",
        "\n",
        "        print(f\"Found {len(all_image_paths)} images in directory.\")\n",
        "        print(f\"Sample filenames: {all_image_paths[:1]}\")\n",
        "\n",
        "        # Get Labels\n",
        "        labels_data = os.path.join(\"/content/aml_1_aerial_imagery/dataset\", \"train.csv\")\n",
        "        labels_df = pd.read_csv(labels_data)\n",
        "\n",
        "        # Normalize index: remove extensions if present\n",
        "        labels_df['id'] = labels_df['id'].apply(lambda x: os.path.splitext(str(x))[0])\n",
        "        labels_df.set_index(\"id\", inplace=True)\n",
        "\n",
        "        print(f\"Labels dataframe length: {len(labels_df)}\")\n",
        "\n",
        "        # Extract only valid images (that have a label)\n",
        "        valid_filenames = []\n",
        "        labels = []\n",
        "\n",
        "        for f in all_image_paths:\n",
        "            filename = os.path.basename(f)  # get only file name\n",
        "            image_id = os.path.splitext(filename)[0]  # remove extension\n",
        "\n",
        "            if image_id in labels_df.index:\n",
        "                valid_filenames.append(f)\n",
        "                labels.append(labels_df.loc[image_id].values[0])\n",
        "            else:\n",
        "                print(f\"Warning: image '{filename}' has no matching label in train.csv\")\n",
        "\n",
        "        self.full_filenames = valid_filenames\n",
        "        self.labels = labels\n",
        "        self.transform = transform\n",
        "\n",
        "        print(f\"Valid image-label pairs: {len(self.full_filenames)}\")\n",
        "        print(f\"First few labels: {self.labels[:5]}\")\n",
        "\n",
        "    def __len__(self):\n",
        "        return len(self.full_filenames)\n",
        "\n",
        "    def __getitem__(self, idx):\n",
        "        if idx >= len(self.full_filenames):\n",
        "            raise IndexError(f\"Index {idx} out of bounds for dataset of length {len(self.full_filenames)}\")\n",
        "\n",
        "        image = Image.open(self.full_filenames[idx])\n",
        "        image = self.transform(image)\n",
        "        return image, self.labels[idx]"
      ],
      "metadata": {
        "execution": {
          "iopub.status.busy": "2025-05-07T14:02:49.691609Z",
          "iopub.execute_input": "2025-05-07T14:02:49.691901Z",
          "iopub.status.idle": "2025-05-07T14:02:49.708033Z",
          "shell.execute_reply.started": "2025-05-07T14:02:49.691880Z",
          "shell.execute_reply": "2025-05-07T14:02:49.707154Z"
        },
        "trusted": true,
        "id": "KtoXVWFVZEmZ"
      },
      "outputs": [],
      "execution_count": 11
    },
    {
      "cell_type": "code",
      "source": [
        "# define transformation that converts a PIL image into PyTorch tensors\n",
        "import torchvision.transforms as transforms\n",
        "data_transformer = transforms.Compose([transforms.ToTensor(),\n",
        "                                       transforms.Resize((32,32))])"
      ],
      "metadata": {
        "execution": {
          "iopub.status.busy": "2025-05-07T08:43:46.365003Z",
          "iopub.execute_input": "2025-05-07T08:43:46.365620Z",
          "iopub.status.idle": "2025-05-07T08:43:46.384938Z",
          "shell.execute_reply.started": "2025-05-07T08:43:46.365580Z",
          "shell.execute_reply": "2025-05-07T08:43:46.383867Z"
        },
        "trusted": true,
        "id": "LfP04uisZEma"
      },
      "outputs": [],
      "execution_count": 12
    },
    {
      "cell_type": "code",
      "source": [
        "# Define an object of the custom dataset for the train folder.\n",
        "data_dir = path+'/train/'\n",
        "img_dataset = pytorch_data(data_dir, data_transformer, \"train\")"
      ],
      "metadata": {
        "execution": {
          "iopub.status.busy": "2025-05-07T08:43:46.386068Z",
          "iopub.execute_input": "2025-05-07T08:43:46.386405Z",
          "iopub.status.idle": "2025-05-07T08:43:46.942562Z",
          "shell.execute_reply.started": "2025-05-07T08:43:46.386377Z",
          "shell.execute_reply": "2025-05-07T08:43:46.941477Z"
        },
        "trusted": true,
        "colab": {
          "base_uri": "https://localhost:8080/"
        },
        "id": "NVfnN2MKZEma",
        "outputId": "6519ac44-2be9-429a-908f-edbae9eb8618"
      },
      "outputs": [
        {
          "output_type": "stream",
          "name": "stdout",
          "text": [
            "Found 17500 images in directory.\n",
            "Sample filenames: ['/content/aml_1_aerial_imagery/dataset/train/train/43f146041ea4556e3839667bd1c0d06f.jpg']\n",
            "Labels dataframe length: 17500\n",
            "Valid image-label pairs: 17500\n",
            "First few labels: [np.int64(1), np.int64(1), np.int64(1), np.int64(1), np.int64(1)]\n"
          ]
        }
      ],
      "execution_count": 13
    },
    {
      "cell_type": "code",
      "source": [
        "# define transformation that converts a PIL image into PyTorch tensors\n",
        "data_transformer = transforms.Compose([\n",
        "    transforms.ToTensor(),\n",
        "    transforms.Resize((32, 32))\n",
        "])"
      ],
      "metadata": {
        "execution": {
          "iopub.status.busy": "2025-05-07T08:43:46.943615Z",
          "iopub.execute_input": "2025-05-07T08:43:46.943971Z",
          "iopub.status.idle": "2025-05-07T08:43:46.949324Z",
          "shell.execute_reply.started": "2025-05-07T08:43:46.943945Z",
          "shell.execute_reply": "2025-05-07T08:43:46.948211Z"
        },
        "trusted": true,
        "id": "M05aNkiTZEma"
      },
      "outputs": [],
      "execution_count": 14
    },
    {
      "cell_type": "code",
      "source": [
        "# Test a sample\n",
        "img, label = img_dataset[10]\n",
        "print(img.shape, torch.min(img), torch.max(img))"
      ],
      "metadata": {
        "execution": {
          "iopub.status.busy": "2025-05-07T08:43:46.951973Z",
          "iopub.execute_input": "2025-05-07T08:43:46.952392Z",
          "iopub.status.idle": "2025-05-07T08:43:47.130241Z",
          "shell.execute_reply.started": "2025-05-07T08:43:46.952370Z",
          "shell.execute_reply": "2025-05-07T08:43:47.129112Z"
        },
        "trusted": true,
        "colab": {
          "base_uri": "https://localhost:8080/"
        },
        "id": "v9rXdrVYZEma",
        "outputId": "875df00b-efa3-4e90-c269-5cf2eeba4ce5"
      },
      "outputs": [
        {
          "output_type": "stream",
          "name": "stdout",
          "text": [
            "torch.Size([3, 32, 32]) tensor(0.1137) tensor(1.)\n"
          ]
        }
      ],
      "execution_count": 15
    },
    {
      "cell_type": "code",
      "source": [
        "print(len(img_dataset))"
      ],
      "metadata": {
        "trusted": true,
        "execution": {
          "iopub.status.busy": "2025-05-07T08:48:23.880074Z",
          "iopub.execute_input": "2025-05-07T08:48:23.880810Z",
          "iopub.status.idle": "2025-05-07T08:48:23.887673Z",
          "shell.execute_reply.started": "2025-05-07T08:48:23.880781Z",
          "shell.execute_reply": "2025-05-07T08:48:23.886134Z"
        },
        "colab": {
          "base_uri": "https://localhost:8080/"
        },
        "id": "1AGs9uE-ZEma",
        "outputId": "2486aa7f-aee8-47b3-ef45-57c632ac0c3b"
      },
      "outputs": [
        {
          "output_type": "stream",
          "name": "stdout",
          "text": [
            "21864\n"
          ]
        }
      ],
      "execution_count": 18
    },
    {
      "cell_type": "markdown",
      "source": [
        "**DATA AUGMENTATION CHE VA A RADDOPPIARE IL NUMERO DI SAMPLE DELLA CLASSE 0 AVENDO ALLA FINE CHE I SAMPLE DELLA CLASSE 0 SONO I 2/3 DEI SAMPLE DELLA CLASSE 1**"
      ],
      "metadata": {
        "id": "YPaVMU-JZEma"
      }
    },
    {
      "cell_type": "code",
      "source": [
        "# Aumentiamo le immagini della classe 0\n",
        "from torchvision.transforms import RandomRotation, ToTensor, Resize\n",
        "from tqdm import tqdm\n",
        "\n",
        "# Trasformazione per augmentare\n",
        "augment_transform = transforms.Compose([\n",
        "    RandomRotation(degrees=10),\n",
        "    Resize((32, 32)),\n",
        "    ToTensor()\n",
        "])\n",
        "\n",
        "# Trova solo immagini con etichetta 0\n",
        "images_class0 = [i for i in range(len(img_dataset)) if img_dataset.labels[i] == 0]\n",
        "\n",
        "# Duplichiamo queste immagini con trasformazione\n",
        "augmented_images = []\n",
        "augmented_labels = []\n",
        "\n",
        "for idx in tqdm(images_class0):\n",
        "    img_path = img_dataset.full_filenames[idx]\n",
        "    img = Image.open(img_path)\n",
        "    augmented_img = augment_transform(img)\n",
        "    augmented_images.append(augmented_img)\n",
        "    augmented_labels.append(0)\n",
        "\n",
        "# Stack immagini originali\n",
        "original_images = [img_dataset[i][0] for i in range(len(img_dataset))]\n",
        "original_labels = [img_dataset[i][1] for i in range(len(img_dataset))]\n",
        "\n",
        "# Combina immagini originali + augmentate\n",
        "all_images = torch.stack(original_images + augmented_images)\n",
        "all_labels = torch.tensor(original_labels + augmented_labels)\n",
        "\n",
        "# Nuovo Dataset custom con dati augmentati\n",
        "class AugmentedDataset(torch.utils.data.Dataset):\n",
        "    def __init__(self, images, labels):\n",
        "        self.images = images\n",
        "        self.labels = labels\n",
        "    def __len__(self):\n",
        "        return len(self.images)\n",
        "    def __getitem__(self, idx):\n",
        "        return self.images[idx], self.labels[idx]\n",
        "\n",
        "# Sostituisci img_dataset con quello nuovo\n",
        "img_dataset = AugmentedDataset(all_images, all_labels)"
      ],
      "metadata": {
        "trusted": true,
        "execution": {
          "iopub.status.busy": "2025-05-07T08:45:56.210141Z",
          "iopub.status.idle": "2025-05-07T08:45:56.210552Z",
          "shell.execute_reply.started": "2025-05-07T08:45:56.210360Z",
          "shell.execute_reply": "2025-05-07T08:45:56.210378Z"
        },
        "colab": {
          "base_uri": "https://localhost:8080/"
        },
        "id": "I9B6xcNPZEmb",
        "outputId": "17586cca-45bb-4323-83d6-7d549fd2a774"
      },
      "outputs": [
        {
          "output_type": "stream",
          "name": "stderr",
          "text": [
            "100%|██████████| 4364/4364 [00:04<00:00, 920.38it/s]\n"
          ]
        }
      ],
      "execution_count": 17
    },
    {
      "cell_type": "markdown",
      "source": [
        "***DIVISIONE NEI TRE SET TRAIN, VALIDATION, TEST DOPO AVER AUMENTATO I DATI DELLA CLASSE 0***"
      ],
      "metadata": {
        "id": "vQFc-hZ9ZEmb"
      }
    },
    {
      "cell_type": "code",
      "source": [
        "from sklearn.model_selection import train_test_split\n",
        "from torch.utils.data import Subset\n",
        "\n",
        "# Estrai le etichette in modo sicuro\n",
        "labels = img_dataset.labels  # NON usare img_dataset[i][1]\n",
        "\n",
        "# Crea una lista di tutti gli indici\n",
        "all_indices = list(range(len(img_dataset)))\n",
        "\n",
        "# Split stratificato: Train (70%) e Temp (30%)\n",
        "train_idx, temp_idx = train_test_split(\n",
        "    all_indices, test_size=0.3, stratify=labels, random_state=42\n",
        ")\n",
        "\n",
        "# Estrai le label corrispondenti agli indici temporanei per secondo split\n",
        "temp_labels = [labels[i] for i in temp_idx]\n",
        "\n",
        "# Split stratificato: Validation (15%) e Test (15%) da temp\n",
        "val_idx, test_idx = train_test_split(\n",
        "    temp_idx, test_size=0.5, stratify=temp_labels, random_state=42\n",
        ")\n",
        "\n",
        "# Crea i subset PyTorch\n",
        "train_ts = Subset(img_dataset, train_idx)\n",
        "val_ts = Subset(img_dataset, val_idx)\n",
        "test_ts = Subset(img_dataset, test_idx)\n",
        "\n",
        "# Visualizzazione\n",
        "print(\"train dataset size:\", len(train_ts))\n",
        "print(\"validation dataset size:\", len(val_ts))\n",
        "print(\"test dataset size:\", len(test_ts))"
      ],
      "metadata": {
        "trusted": true,
        "execution": {
          "iopub.status.busy": "2025-05-07T08:48:35.664257Z",
          "iopub.execute_input": "2025-05-07T08:48:35.664591Z",
          "iopub.status.idle": "2025-05-07T08:48:35.750370Z",
          "shell.execute_reply.started": "2025-05-07T08:48:35.664568Z",
          "shell.execute_reply": "2025-05-07T08:48:35.749015Z"
        },
        "colab": {
          "base_uri": "https://localhost:8080/"
        },
        "id": "aPp287HaZEmb",
        "outputId": "dce45fcb-c98c-4d1d-abf1-4afe8703406e"
      },
      "outputs": [
        {
          "output_type": "stream",
          "name": "stdout",
          "text": [
            "train dataset size: 15304\n",
            "validation dataset size: 3280\n",
            "test dataset size: 3280\n"
          ]
        }
      ],
      "execution_count": 19
    },
    {
      "cell_type": "markdown",
      "source": [
        "**DATA LOADER FOR SPLITTING IMAGES**"
      ],
      "metadata": {
        "id": "zgVwhtJEZEmc"
      }
    },
    {
      "cell_type": "code",
      "source": [
        "from torch.utils.data import DataLoader\n",
        "\n",
        "# Training DataLoader\n",
        "train_dl = DataLoader(train_ts,\n",
        "                      batch_size=64,\n",
        "                      shuffle=True)\n",
        "\n",
        "# Validation DataLoader\n",
        "val_dl = DataLoader(val_ts,\n",
        "                    batch_size=64,\n",
        "                    shuffle=False)"
      ],
      "metadata": {
        "trusted": true,
        "execution": {
          "iopub.status.busy": "2025-05-07T08:48:48.917359Z",
          "iopub.execute_input": "2025-05-07T08:48:48.917872Z",
          "iopub.status.idle": "2025-05-07T08:48:48.926209Z",
          "shell.execute_reply.started": "2025-05-07T08:48:48.917833Z",
          "shell.execute_reply": "2025-05-07T08:48:48.924681Z"
        },
        "id": "cRBej3-CZEmc"
      },
      "outputs": [],
      "execution_count": 20
    },
    {
      "cell_type": "code",
      "source": [
        "from torchvision import models\n",
        "import torch.nn as nn\n",
        "\n",
        "# Carica ResNet18 senza pesi pre-addestrati\n",
        "model = models.resnet18(weights=None)\n",
        "\n",
        "# Modifica l'output per classificazione binaria\n",
        "num_ftrs = model.fc.in_features\n",
        "model.fc = nn.Sequential(\n",
        "    nn.Linear(num_ftrs, 1),\n",
        "    nn.Sigmoid()\n",
        ")\n",
        "\n",
        "# Manda su GPU se disponibile\n",
        "device = torch.device(\"cuda\" if torch.cuda.is_available() else \"cpu\")\n",
        "model = model.to(device)"
      ],
      "metadata": {
        "trusted": true,
        "execution": {
          "iopub.status.busy": "2025-05-07T14:04:22.527725Z",
          "iopub.execute_input": "2025-05-07T14:04:22.528038Z",
          "iopub.status.idle": "2025-05-07T14:04:22.800184Z",
          "shell.execute_reply.started": "2025-05-07T14:04:22.528015Z",
          "shell.execute_reply": "2025-05-07T14:04:22.799360Z"
        },
        "id": "cdeOtKxhZEmc"
      },
      "outputs": [],
      "execution_count": 21
    },
    {
      "cell_type": "code",
      "source": [
        "import torch\n",
        "\n",
        "def train_epoch(model, dataloader, optimizer, criterion, device='cuda'):\n",
        "    model.train()\n",
        "    running_loss = 0.0\n",
        "    correct = 0\n",
        "    total = 0\n",
        "\n",
        "    for inputs, labels in dataloader:\n",
        "        inputs, labels = inputs.to(device), labels.to(device)\n",
        "\n",
        "        optimizer.zero_grad()\n",
        "        outputs = model(inputs).squeeze(1)  # da [64, 1] → [64]\n",
        "        loss = criterion(outputs, labels.float())  # attenzione: i label devono essere float per BCE\n",
        "        loss.backward()\n",
        "        optimizer.step()\n",
        "\n",
        "        running_loss += loss.item() * inputs.size(0)\n",
        "        predicted = (outputs > 0.5).float()\n",
        "        correct += (predicted == labels.float()).sum().item()\n",
        "        total += labels.size(0)\n",
        "\n",
        "    epoch_loss = running_loss / total\n",
        "    epoch_acc = correct / total\n",
        "\n",
        "    return epoch_loss, epoch_acc"
      ],
      "metadata": {
        "trusted": true,
        "execution": {
          "iopub.status.busy": "2025-05-07T09:09:38.359057Z",
          "iopub.execute_input": "2025-05-07T09:09:38.359422Z",
          "iopub.status.idle": "2025-05-07T09:09:38.367276Z",
          "shell.execute_reply.started": "2025-05-07T09:09:38.359400Z",
          "shell.execute_reply": "2025-05-07T09:09:38.366056Z"
        },
        "id": "BfA9x2qkZEmc"
      },
      "outputs": [],
      "execution_count": 35
    },
    {
      "cell_type": "code",
      "source": [
        "def evaluate(model, dataloader, criterion, device='cuda', binary=True):\n",
        "    model.eval()\n",
        "    running_loss = 0.0\n",
        "    correct = 0\n",
        "    total = 0\n",
        "\n",
        "    with torch.no_grad():\n",
        "        for inputs, labels in dataloader:\n",
        "            inputs, labels = inputs.to(device), labels.to(device)\n",
        "\n",
        "            outputs = model(inputs)\n",
        "\n",
        "            if binary:\n",
        "                outputs = outputs.squeeze(1)  # [B, 1] → [B]\n",
        "                loss = criterion(outputs, labels.float())\n",
        "                predicted = (outputs > 0.5).float()\n",
        "            else:\n",
        "                loss = criterion(outputs, labels)\n",
        "                _, predicted = torch.max(outputs, 1)\n",
        "\n",
        "            running_loss += loss.item() * inputs.size(0)\n",
        "            correct += (predicted == labels).sum().item()\n",
        "            total += labels.size(0)\n",
        "\n",
        "    val_loss = running_loss / total\n",
        "    val_acc = correct / total\n",
        "    return val_loss, val_acc\n"
      ],
      "metadata": {
        "trusted": true,
        "execution": {
          "iopub.status.busy": "2025-05-07T09:09:40.996823Z",
          "iopub.execute_input": "2025-05-07T09:09:40.997202Z",
          "iopub.status.idle": "2025-05-07T09:09:41.004977Z",
          "shell.execute_reply.started": "2025-05-07T09:09:40.997179Z",
          "shell.execute_reply": "2025-05-07T09:09:41.003943Z"
        },
        "id": "OSE5-LckZEmc"
      },
      "outputs": [],
      "execution_count": 36
    },
    {
      "cell_type": "code",
      "source": [
        "from torchvision import models\n",
        "import torch.optim as optim\n",
        "import torch.nn as nn\n",
        "\n",
        "# Griglia di iperparametri da esplorare\n",
        "learning_rates = [1e-3, 1e-4]\n",
        "optimizers = ['adam', 'sgd']\n",
        "\n",
        "results = []\n",
        "\n",
        "for lr in learning_rates:\n",
        "    for opt_name in optimizers:\n",
        "        # Inizializza un nuovo modello ResNet18\n",
        "        model = models.resnet18(weights=None)\n",
        "        num_ftrs = model.fc.in_features\n",
        "        model.fc = nn.Sequential(nn.Linear(num_ftrs, 1), nn.Sigmoid())\n",
        "        model = model.to(device)\n",
        "\n",
        "        # Crea ottimizzatore\n",
        "        if opt_name == 'adam':\n",
        "            optimizer = optim.Adam(model.fc.parameters(), lr=lr)\n",
        "        else:\n",
        "            optimizer = optim.SGD(model.fc.parameters(), lr=lr, momentum=0.9)\n",
        "\n",
        "        # Loss e scheduler\n",
        "        criterion = nn.BCELoss()\n",
        "        scheduler = optim.lr_scheduler.ReduceLROnPlateau(optimizer, mode='min', patience=2)\n",
        "\n",
        "        # Allenamento su 3 epoche per tuning veloce\n",
        "        for epoch in range(15):\n",
        "            train_loss, train_acc = train_epoch(model, train_dl, optimizer, criterion)\n",
        "            val_loss, val_acc = evaluate(model, val_dl, criterion)\n",
        "            scheduler.step(val_loss)\n",
        "\n",
        "        results.append({\n",
        "            'lr': lr,\n",
        "            'optimizer': opt_name,\n",
        "            'val_loss': val_loss,\n",
        "            'val_acc': val_acc\n",
        "        })\n",
        "\n",
        "        print(f\"lr={lr}, opt={opt_name}, val_loss={val_loss:.4f}, val_acc={val_acc:.4f}\")"
      ],
      "metadata": {
        "trusted": true,
        "execution": {
          "iopub.status.busy": "2025-05-07T12:42:31.475787Z",
          "iopub.execute_input": "2025-05-07T12:42:31.476073Z",
          "iopub.status.idle": "2025-05-07T13:13:02.929453Z",
          "shell.execute_reply.started": "2025-05-07T12:42:31.476055Z",
          "shell.execute_reply": "2025-05-07T13:13:02.928316Z"
        },
        "colab": {
          "base_uri": "https://localhost:8080/"
        },
        "id": "Srm7u2DEZEmd",
        "outputId": "dffd2bd3-6242-4a3c-e5ae-e32fa5cdbabf"
      },
      "outputs": [
        {
          "output_type": "stream",
          "name": "stdout",
          "text": [
            "lr=0.001, opt=adam, val_loss=0.3074, val_acc=0.8750\n",
            "lr=0.001, opt=sgd, val_loss=0.2683, val_acc=0.8942\n",
            "lr=0.0001, opt=adam, val_loss=0.3251, val_acc=0.8692\n",
            "lr=0.0001, opt=sgd, val_loss=0.3506, val_acc=0.8570\n"
          ]
        }
      ],
      "execution_count": 37
    },
    {
      "cell_type": "code",
      "source": [
        "import numpy as np, torch\n",
        "\n",
        "candidates = {}\n",
        "# facciamo subito una copia statica di globals()\n",
        "for name, value in list(globals().items()):\n",
        "    if isinstance(value, (np.ndarray, torch.Tensor)):\n",
        "        candidates[name] = tuple(value.shape)\n",
        "\n",
        "print(\"Variabili ndarray / Tensor in memoria:\")\n",
        "for n, s in candidates.items():\n",
        "    print(f\"{n:20s}  shape={s}\")\n"
      ],
      "metadata": {
        "trusted": true,
        "execution": {
          "iopub.status.busy": "2025-05-07T14:30:27.471508Z",
          "iopub.execute_input": "2025-05-07T14:30:27.471791Z",
          "iopub.status.idle": "2025-05-07T14:30:27.478933Z",
          "shell.execute_reply.started": "2025-05-07T14:30:27.471773Z",
          "shell.execute_reply": "2025-05-07T14:30:27.478117Z"
        },
        "colab": {
          "base_uri": "https://localhost:8080/"
        },
        "id": "sSd7-cgOZEmd",
        "outputId": "049c209e-bcdb-4475-9bb8-e235af7bb931"
      },
      "outputs": [
        {
          "output_type": "stream",
          "name": "stdout",
          "text": [
            "Variabili ndarray / Tensor in memoria:\n",
            "augmented_img         shape=(3, 32, 32)\n",
            "all_images            shape=(21864, 3, 32, 32)\n",
            "all_labels            shape=(21864,)\n",
            "labels                shape=(21864,)\n"
          ]
        }
      ],
      "execution_count": 25
    },
    {
      "cell_type": "code",
      "source": [
        "import torch.utils.data as data\n",
        "\n",
        "datasets_in_mem = {k: type(v).__name__ for k, v in list(globals().items())\n",
        "                   if isinstance(v, data.Dataset)}\n",
        "print(\"Dataset in memoria:\")\n",
        "for name, cls in datasets_in_mem.items():\n",
        "    print(f\"{name:20s}  ({cls})\")\n"
      ],
      "metadata": {
        "trusted": true,
        "execution": {
          "iopub.status.busy": "2025-05-07T14:31:37.078607Z",
          "iopub.execute_input": "2025-05-07T14:31:37.078900Z",
          "iopub.status.idle": "2025-05-07T14:31:37.085404Z",
          "shell.execute_reply.started": "2025-05-07T14:31:37.078876Z",
          "shell.execute_reply": "2025-05-07T14:31:37.084454Z"
        },
        "colab": {
          "base_uri": "https://localhost:8080/"
        },
        "id": "YYTMzyHPZEmd",
        "outputId": "b93cae03-7ddd-4939-8e69-8307ddbe9671"
      },
      "outputs": [
        {
          "output_type": "stream",
          "name": "stdout",
          "text": [
            "Dataset in memoria:\n",
            "img_dataset           (AugmentedDataset)\n",
            "train_ts              (Subset)\n",
            "val_ts                (Subset)\n",
            "test_ts               (Subset)\n"
          ]
        }
      ],
      "execution_count": 26
    },
    {
      "cell_type": "code",
      "source": [
        "from sklearn.metrics import classification_report, accuracy_score\n",
        "from torchvision.models import resnet18\n",
        "import torch, torch.nn as nn\n",
        "from torch.utils.data import Subset, DataLoader\n",
        "\n",
        "device = torch.device(\"cuda\" if torch.cuda.is_available() else \"cpu\")\n",
        "\n",
        "# 1️⃣  Loader per train + val (indici train_idx) e per test (già definito)\n",
        "train_val_dataset = Subset(img_dataset, train_idx)\n",
        "train_val_loader  = DataLoader(train_val_dataset, batch_size=64, shuffle=True)\n",
        "\n",
        "# se non hai già test_loader:\n",
        "test_loader = DataLoader(test_ts, batch_size=64, shuffle=False)\n",
        "\n",
        "# 2️⃣  ResNet18 senza pesi preaddestrati – iperparametri: lr=0.001, opt=Adam\n",
        "model = resnet18(weights=None)\n",
        "num_classes = len({lbl for _, lbl in train_val_dataset})\n",
        "model.fc = nn.Linear(model.fc.in_features, num_classes)\n",
        "model.to(device)\n",
        "\n",
        "criterion  = nn.CrossEntropyLoss()\n",
        "optimizer  = torch.optim.SGD(model.parameters(), lr=0.001, momentum=0.9)\n",
        "num_epochs = 15\n",
        "\n",
        "# 3️⃣  Training su train + val\n",
        "for epoch in range(num_epochs):\n",
        "    model.train()\n",
        "    for imgs, labels in train_val_loader:\n",
        "        imgs, labels = imgs.to(device), labels.to(device)\n",
        "        optimizer.zero_grad()\n",
        "        loss = criterion(model(imgs), labels)\n",
        "        loss.backward()\n",
        "        optimizer.step()\n",
        "\n",
        "# 4️⃣  Valutazione sul test set\n",
        "y_true, y_pred = [], []\n",
        "model.eval()\n",
        "with torch.no_grad():\n",
        "    for imgs, labels in test_loader:\n",
        "        imgs, labels = imgs.to(device), labels.to(device)\n",
        "        _, preds = torch.max(model(imgs), 1)\n",
        "        y_true.extend(labels.cpu().numpy())\n",
        "        y_pred.extend(preds.cpu().numpy())\n",
        "\n",
        "print(\"🎯 Test Accuracy:\", accuracy_score(y_true, y_pred))\n",
        "print(classification_report(y_true, y_pred, digits=4))\n"
      ],
      "metadata": {
        "trusted": true,
        "execution": {
          "iopub.status.busy": "2025-05-07T14:32:40.179428Z",
          "iopub.execute_input": "2025-05-07T14:32:40.180341Z"
        },
        "colab": {
          "base_uri": "https://localhost:8080/"
        },
        "id": "PoE7f51KZEmd",
        "outputId": "d260878e-9cf4-441f-ae64-67cba23b3b2d"
      },
      "outputs": [
        {
          "output_type": "stream",
          "name": "stdout",
          "text": [
            "🎯 Test Accuracy: 0.9856707317073171\n",
            "              precision    recall  f1-score   support\n",
            "\n",
            "           0     0.9723    0.9924    0.9822      1309\n",
            "           1     0.9949    0.9812    0.9880      1971\n",
            "\n",
            "    accuracy                         0.9857      3280\n",
            "   macro avg     0.9836    0.9868    0.9851      3280\n",
            "weighted avg     0.9859    0.9857    0.9857      3280\n",
            "\n"
          ]
        }
      ],
      "execution_count": 39
    }
  ]
}