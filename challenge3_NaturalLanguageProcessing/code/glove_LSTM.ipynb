{
  "metadata": {
    "kernelspec": {
      "name": "python3",
      "display_name": "Python 3",
      "language": "python"
    },
    "language_info": {
      "name": "python",
      "version": "3.11.11",
      "mimetype": "text/x-python",
      "codemirror_mode": {
        "name": "ipython",
        "version": 3
      },
      "pygments_lexer": "ipython3",
      "nbconvert_exporter": "python",
      "file_extension": ".py"
    },
    "kaggle": {
      "accelerator": "none",
      "dataSources": [
        {
          "sourceId": 8074783,
          "sourceType": "datasetVersion",
          "datasetId": 4765148,
          "isSourceIdPinned": false
        }
      ],
      "dockerImageVersionId": 31040,
      "isInternetEnabled": true,
      "language": "python",
      "sourceType": "notebook",
      "isGpuEnabled": false
    },
    "colab": {
      "provenance": []
    }
  },
  "nbformat_minor": 5,
  "nbformat": 4,
  "cells": [
    {
      "id": "8670f13b-d26f-423d-a426-19a4a8565b02",
      "cell_type": "code",
      "source": [
        "import os\n",
        "import pandas as pd\n",
        "import numpy as np\n",
        "import matplotlib.pyplot as plt\n",
        "%matplotlib inline\n",
        "import spacy\n",
        "from spacy.lang.en.stop_words import STOP_WORDS as stopwords\n",
        "from nltk.tokenize import word_tokenize\n",
        "\n",
        "#For Stemming text\n",
        "from nltk.stem import PorterStemmer\n",
        "\n",
        "import seaborn as sns\n",
        "from wordcloud import WordCloud\n",
        "from textblob import TextBlob\n",
        "\n",
        "# Convert a collection of text documents to a matrix of token counts.\n",
        "from sklearn.feature_extraction.text import CountVectorizer\n",
        "\n",
        "#To split data into train and test\n",
        "from sklearn.model_selection import train_test_split\n",
        "\n",
        "#For fitting model\n",
        "from sklearn.linear_model import LogisticRegression\n",
        "\n",
        "#For evaluation of model\n",
        "from sklearn.metrics import accuracy_score, classification_report, confusion_matrix, ConfusionMatrixDisplay\n",
        "\n",
        "from nltk.sentiment.vader import SentimentIntensityAnalyzer\n",
        "import nltk\n",
        "nltk.download('vader_lexicon')\n",
        "nltk.download('punkt_tab')\n",
        "sid = SentimentIntensityAnalyzer()"
      ],
      "metadata": {
        "trusted": true,
        "execution": {
          "iopub.status.busy": "2025-06-04T11:55:47.635944Z",
          "iopub.execute_input": "2025-06-04T11:55:47.636763Z",
          "iopub.status.idle": "2025-06-04T11:56:00.626817Z",
          "shell.execute_reply.started": "2025-06-04T11:55:47.636737Z",
          "shell.execute_reply": "2025-06-04T11:56:00.625871Z"
        },
        "id": "8670f13b-d26f-423d-a426-19a4a8565b02",
        "outputId": "cb696173-157b-403d-a549-e649e0f7105f",
        "colab": {
          "base_uri": "https://localhost:8080/"
        }
      },
      "outputs": [
        {
          "output_type": "stream",
          "name": "stderr",
          "text": [
            "[nltk_data] Downloading package vader_lexicon to /root/nltk_data...\n",
            "[nltk_data] Downloading package punkt_tab to /root/nltk_data...\n",
            "[nltk_data]   Unzipping tokenizers/punkt_tab.zip.\n"
          ]
        }
      ],
      "execution_count": 1
    },
    {
      "id": "37e50f6f-4c55-442d-9c8c-8f640ab5b650",
      "cell_type": "markdown",
      "source": [
        "# Data collection"
      ],
      "metadata": {
        "id": "37e50f6f-4c55-442d-9c8c-8f640ab5b650"
      }
    },
    {
      "id": "63c4205a",
      "cell_type": "code",
      "source": [
        "import kagglehub\n",
        "\n",
        "# Download latest version\n",
        "path = kagglehub.dataset_download(\"michiard/sentiment-analysis-dataset\")\n",
        "\n",
        "print(\"Path to dataset files:\", path)"
      ],
      "metadata": {
        "trusted": true,
        "execution": {
          "iopub.status.busy": "2025-06-04T11:56:00.628245Z",
          "iopub.execute_input": "2025-06-04T11:56:00.628714Z",
          "iopub.status.idle": "2025-06-04T11:56:00.838633Z",
          "shell.execute_reply.started": "2025-06-04T11:56:00.628687Z",
          "shell.execute_reply": "2025-06-04T11:56:00.837763Z"
        },
        "id": "63c4205a",
        "outputId": "a2b7cd10-45db-4626-da83-cd3a7a753836",
        "colab": {
          "base_uri": "https://localhost:8080/"
        }
      },
      "outputs": [
        {
          "output_type": "stream",
          "name": "stdout",
          "text": [
            "Downloading from https://www.kaggle.com/api/v1/datasets/download/michiard/sentiment-analysis-dataset?dataset_version_number=1...\n"
          ]
        },
        {
          "output_type": "stream",
          "name": "stderr",
          "text": [
            "100%|██████████| 1.25M/1.25M [00:00<00:00, 52.3MB/s]"
          ]
        },
        {
          "output_type": "stream",
          "name": "stdout",
          "text": [
            "Extracting files...\n",
            "Path to dataset files: /root/.cache/kagglehub/datasets/michiard/sentiment-analysis-dataset/versions/1\n"
          ]
        },
        {
          "output_type": "stream",
          "name": "stderr",
          "text": [
            "\n"
          ]
        }
      ],
      "execution_count": 2
    },
    {
      "id": "a9d56684-ae98-4208-8171-253535d47a15",
      "cell_type": "code",
      "source": [
        "print(os.listdir(path))\n",
        "\n",
        "df = pd.read_csv(path+'/train.csv')\n",
        "\n",
        "print(df.head())"
      ],
      "metadata": {
        "trusted": true,
        "execution": {
          "iopub.status.busy": "2025-06-04T11:56:00.839507Z",
          "iopub.execute_input": "2025-06-04T11:56:00.839799Z",
          "iopub.status.idle": "2025-06-04T11:56:00.986077Z",
          "shell.execute_reply.started": "2025-06-04T11:56:00.839777Z",
          "shell.execute_reply": "2025-06-04T11:56:00.985013Z"
        },
        "id": "a9d56684-ae98-4208-8171-253535d47a15",
        "outputId": "ee53280e-c1fd-4ee3-940e-2c3d2ec84bca",
        "colab": {
          "base_uri": "https://localhost:8080/"
        }
      },
      "outputs": [
        {
          "output_type": "stream",
          "name": "stdout",
          "text": [
            "['test.csv', 'sample_submission.csv', 'train.csv']\n",
            "       textID                                               text  \\\n",
            "0  28ac06f416                        good luck with your auction   \n",
            "1  92098cf9a7  Hmm..You can`t judge a book by looking at its ...   \n",
            "2  7858ff28f2   Hello, yourself. Enjoy London. Watch out for ...   \n",
            "3  b0c9c67f32         We can`t even call you from belgium  sucks   \n",
            "4  7b36e9e7a5                                 not so good mood..   \n",
            "\n",
            "                                       selected_text sentiment  \n",
            "0                        good luck with your auction  positive  \n",
            "1  Hmm..You can`t judge a book by looking at its ...   neutral  \n",
            "2                                    They`re mental.  negative  \n",
            "3                                            m  suck  negative  \n",
            "4                                 not so good mood..  negative  \n"
          ]
        }
      ],
      "execution_count": 3
    },
    {
      "id": "4a68f24d-3c09-4eed-a389-913e1aedeeae",
      "cell_type": "code",
      "source": [
        "print(df.info())\n",
        "print(\"Columns: \" + df.columns)\n",
        "print(df.shape)"
      ],
      "metadata": {
        "trusted": true,
        "execution": {
          "iopub.status.busy": "2025-06-04T11:56:00.988561Z",
          "iopub.execute_input": "2025-06-04T11:56:00.988867Z",
          "iopub.status.idle": "2025-06-04T11:56:01.021419Z",
          "shell.execute_reply.started": "2025-06-04T11:56:00.988844Z",
          "shell.execute_reply": "2025-06-04T11:56:01.020135Z"
        },
        "id": "4a68f24d-3c09-4eed-a389-913e1aedeeae",
        "outputId": "cc0bc9d2-0458-4b28-bead-498fc97f1b8b",
        "colab": {
          "base_uri": "https://localhost:8080/"
        }
      },
      "outputs": [
        {
          "output_type": "stream",
          "name": "stdout",
          "text": [
            "<class 'pandas.core.frame.DataFrame'>\n",
            "RangeIndex: 24732 entries, 0 to 24731\n",
            "Data columns (total 4 columns):\n",
            " #   Column         Non-Null Count  Dtype \n",
            "---  ------         --------------  ----- \n",
            " 0   textID         24732 non-null  object\n",
            " 1   text           24732 non-null  object\n",
            " 2   selected_text  24732 non-null  object\n",
            " 3   sentiment      24732 non-null  object\n",
            "dtypes: object(4)\n",
            "memory usage: 773.0+ KB\n",
            "None\n",
            "Index(['Columns: textID', 'Columns: text', 'Columns: selected_text',\n",
            "       'Columns: sentiment'],\n",
            "      dtype='object')\n",
            "(24732, 4)\n"
          ]
        }
      ],
      "execution_count": 4
    },
    {
      "id": "8bfc5fea-8861-42c0-ab2d-4b8e97feb8e6",
      "cell_type": "code",
      "source": [
        "df.describe(include='all')"
      ],
      "metadata": {
        "trusted": true,
        "execution": {
          "iopub.status.busy": "2025-06-04T11:56:01.022227Z",
          "iopub.execute_input": "2025-06-04T11:56:01.022465Z",
          "iopub.status.idle": "2025-06-04T11:56:01.111603Z",
          "shell.execute_reply.started": "2025-06-04T11:56:01.022446Z",
          "shell.execute_reply": "2025-06-04T11:56:01.110533Z"
        },
        "id": "8bfc5fea-8861-42c0-ab2d-4b8e97feb8e6",
        "outputId": "de55495a-1c0f-4726-b27f-66fc222b7a1c",
        "colab": {
          "base_uri": "https://localhost:8080/",
          "height": 175
        }
      },
      "outputs": [
        {
          "output_type": "execute_result",
          "data": {
            "text/plain": [
              "            textID                                               text  \\\n",
              "count        24732                                              24732   \n",
              "unique       24732                                              24732   \n",
              "top     dfa774bd3d   Content content content .... gah! Story of my...   \n",
              "freq             1                                                  1   \n",
              "\n",
              "       selected_text sentiment  \n",
              "count          24732     24732  \n",
              "unique         20298         3  \n",
              "top             love   neutral  \n",
              "freq             174     10018  "
            ],
            "text/html": [
              "\n",
              "  <div id=\"df-ec325e76-ee24-4911-9f73-d2f16c0305ee\" class=\"colab-df-container\">\n",
              "    <div>\n",
              "<style scoped>\n",
              "    .dataframe tbody tr th:only-of-type {\n",
              "        vertical-align: middle;\n",
              "    }\n",
              "\n",
              "    .dataframe tbody tr th {\n",
              "        vertical-align: top;\n",
              "    }\n",
              "\n",
              "    .dataframe thead th {\n",
              "        text-align: right;\n",
              "    }\n",
              "</style>\n",
              "<table border=\"1\" class=\"dataframe\">\n",
              "  <thead>\n",
              "    <tr style=\"text-align: right;\">\n",
              "      <th></th>\n",
              "      <th>textID</th>\n",
              "      <th>text</th>\n",
              "      <th>selected_text</th>\n",
              "      <th>sentiment</th>\n",
              "    </tr>\n",
              "  </thead>\n",
              "  <tbody>\n",
              "    <tr>\n",
              "      <th>count</th>\n",
              "      <td>24732</td>\n",
              "      <td>24732</td>\n",
              "      <td>24732</td>\n",
              "      <td>24732</td>\n",
              "    </tr>\n",
              "    <tr>\n",
              "      <th>unique</th>\n",
              "      <td>24732</td>\n",
              "      <td>24732</td>\n",
              "      <td>20298</td>\n",
              "      <td>3</td>\n",
              "    </tr>\n",
              "    <tr>\n",
              "      <th>top</th>\n",
              "      <td>dfa774bd3d</td>\n",
              "      <td>Content content content .... gah! Story of my...</td>\n",
              "      <td>love</td>\n",
              "      <td>neutral</td>\n",
              "    </tr>\n",
              "    <tr>\n",
              "      <th>freq</th>\n",
              "      <td>1</td>\n",
              "      <td>1</td>\n",
              "      <td>174</td>\n",
              "      <td>10018</td>\n",
              "    </tr>\n",
              "  </tbody>\n",
              "</table>\n",
              "</div>\n",
              "    <div class=\"colab-df-buttons\">\n",
              "\n",
              "  <div class=\"colab-df-container\">\n",
              "    <button class=\"colab-df-convert\" onclick=\"convertToInteractive('df-ec325e76-ee24-4911-9f73-d2f16c0305ee')\"\n",
              "            title=\"Convert this dataframe to an interactive table.\"\n",
              "            style=\"display:none;\">\n",
              "\n",
              "  <svg xmlns=\"http://www.w3.org/2000/svg\" height=\"24px\" viewBox=\"0 -960 960 960\">\n",
              "    <path d=\"M120-120v-720h720v720H120Zm60-500h600v-160H180v160Zm220 220h160v-160H400v160Zm0 220h160v-160H400v160ZM180-400h160v-160H180v160Zm440 0h160v-160H620v160ZM180-180h160v-160H180v160Zm440 0h160v-160H620v160Z\"/>\n",
              "  </svg>\n",
              "    </button>\n",
              "\n",
              "  <style>\n",
              "    .colab-df-container {\n",
              "      display:flex;\n",
              "      gap: 12px;\n",
              "    }\n",
              "\n",
              "    .colab-df-convert {\n",
              "      background-color: #E8F0FE;\n",
              "      border: none;\n",
              "      border-radius: 50%;\n",
              "      cursor: pointer;\n",
              "      display: none;\n",
              "      fill: #1967D2;\n",
              "      height: 32px;\n",
              "      padding: 0 0 0 0;\n",
              "      width: 32px;\n",
              "    }\n",
              "\n",
              "    .colab-df-convert:hover {\n",
              "      background-color: #E2EBFA;\n",
              "      box-shadow: 0px 1px 2px rgba(60, 64, 67, 0.3), 0px 1px 3px 1px rgba(60, 64, 67, 0.15);\n",
              "      fill: #174EA6;\n",
              "    }\n",
              "\n",
              "    .colab-df-buttons div {\n",
              "      margin-bottom: 4px;\n",
              "    }\n",
              "\n",
              "    [theme=dark] .colab-df-convert {\n",
              "      background-color: #3B4455;\n",
              "      fill: #D2E3FC;\n",
              "    }\n",
              "\n",
              "    [theme=dark] .colab-df-convert:hover {\n",
              "      background-color: #434B5C;\n",
              "      box-shadow: 0px 1px 3px 1px rgba(0, 0, 0, 0.15);\n",
              "      filter: drop-shadow(0px 1px 2px rgba(0, 0, 0, 0.3));\n",
              "      fill: #FFFFFF;\n",
              "    }\n",
              "  </style>\n",
              "\n",
              "    <script>\n",
              "      const buttonEl =\n",
              "        document.querySelector('#df-ec325e76-ee24-4911-9f73-d2f16c0305ee button.colab-df-convert');\n",
              "      buttonEl.style.display =\n",
              "        google.colab.kernel.accessAllowed ? 'block' : 'none';\n",
              "\n",
              "      async function convertToInteractive(key) {\n",
              "        const element = document.querySelector('#df-ec325e76-ee24-4911-9f73-d2f16c0305ee');\n",
              "        const dataTable =\n",
              "          await google.colab.kernel.invokeFunction('convertToInteractive',\n",
              "                                                    [key], {});\n",
              "        if (!dataTable) return;\n",
              "\n",
              "        const docLinkHtml = 'Like what you see? Visit the ' +\n",
              "          '<a target=\"_blank\" href=https://colab.research.google.com/notebooks/data_table.ipynb>data table notebook</a>'\n",
              "          + ' to learn more about interactive tables.';\n",
              "        element.innerHTML = '';\n",
              "        dataTable['output_type'] = 'display_data';\n",
              "        await google.colab.output.renderOutput(dataTable, element);\n",
              "        const docLink = document.createElement('div');\n",
              "        docLink.innerHTML = docLinkHtml;\n",
              "        element.appendChild(docLink);\n",
              "      }\n",
              "    </script>\n",
              "  </div>\n",
              "\n",
              "\n",
              "    <div id=\"df-bf3272e6-bf0b-41da-9c71-14f5d53c0bdc\">\n",
              "      <button class=\"colab-df-quickchart\" onclick=\"quickchart('df-bf3272e6-bf0b-41da-9c71-14f5d53c0bdc')\"\n",
              "                title=\"Suggest charts\"\n",
              "                style=\"display:none;\">\n",
              "\n",
              "<svg xmlns=\"http://www.w3.org/2000/svg\" height=\"24px\"viewBox=\"0 0 24 24\"\n",
              "     width=\"24px\">\n",
              "    <g>\n",
              "        <path d=\"M19 3H5c-1.1 0-2 .9-2 2v14c0 1.1.9 2 2 2h14c1.1 0 2-.9 2-2V5c0-1.1-.9-2-2-2zM9 17H7v-7h2v7zm4 0h-2V7h2v10zm4 0h-2v-4h2v4z\"/>\n",
              "    </g>\n",
              "</svg>\n",
              "      </button>\n",
              "\n",
              "<style>\n",
              "  .colab-df-quickchart {\n",
              "      --bg-color: #E8F0FE;\n",
              "      --fill-color: #1967D2;\n",
              "      --hover-bg-color: #E2EBFA;\n",
              "      --hover-fill-color: #174EA6;\n",
              "      --disabled-fill-color: #AAA;\n",
              "      --disabled-bg-color: #DDD;\n",
              "  }\n",
              "\n",
              "  [theme=dark] .colab-df-quickchart {\n",
              "      --bg-color: #3B4455;\n",
              "      --fill-color: #D2E3FC;\n",
              "      --hover-bg-color: #434B5C;\n",
              "      --hover-fill-color: #FFFFFF;\n",
              "      --disabled-bg-color: #3B4455;\n",
              "      --disabled-fill-color: #666;\n",
              "  }\n",
              "\n",
              "  .colab-df-quickchart {\n",
              "    background-color: var(--bg-color);\n",
              "    border: none;\n",
              "    border-radius: 50%;\n",
              "    cursor: pointer;\n",
              "    display: none;\n",
              "    fill: var(--fill-color);\n",
              "    height: 32px;\n",
              "    padding: 0;\n",
              "    width: 32px;\n",
              "  }\n",
              "\n",
              "  .colab-df-quickchart:hover {\n",
              "    background-color: var(--hover-bg-color);\n",
              "    box-shadow: 0 1px 2px rgba(60, 64, 67, 0.3), 0 1px 3px 1px rgba(60, 64, 67, 0.15);\n",
              "    fill: var(--button-hover-fill-color);\n",
              "  }\n",
              "\n",
              "  .colab-df-quickchart-complete:disabled,\n",
              "  .colab-df-quickchart-complete:disabled:hover {\n",
              "    background-color: var(--disabled-bg-color);\n",
              "    fill: var(--disabled-fill-color);\n",
              "    box-shadow: none;\n",
              "  }\n",
              "\n",
              "  .colab-df-spinner {\n",
              "    border: 2px solid var(--fill-color);\n",
              "    border-color: transparent;\n",
              "    border-bottom-color: var(--fill-color);\n",
              "    animation:\n",
              "      spin 1s steps(1) infinite;\n",
              "  }\n",
              "\n",
              "  @keyframes spin {\n",
              "    0% {\n",
              "      border-color: transparent;\n",
              "      border-bottom-color: var(--fill-color);\n",
              "      border-left-color: var(--fill-color);\n",
              "    }\n",
              "    20% {\n",
              "      border-color: transparent;\n",
              "      border-left-color: var(--fill-color);\n",
              "      border-top-color: var(--fill-color);\n",
              "    }\n",
              "    30% {\n",
              "      border-color: transparent;\n",
              "      border-left-color: var(--fill-color);\n",
              "      border-top-color: var(--fill-color);\n",
              "      border-right-color: var(--fill-color);\n",
              "    }\n",
              "    40% {\n",
              "      border-color: transparent;\n",
              "      border-right-color: var(--fill-color);\n",
              "      border-top-color: var(--fill-color);\n",
              "    }\n",
              "    60% {\n",
              "      border-color: transparent;\n",
              "      border-right-color: var(--fill-color);\n",
              "    }\n",
              "    80% {\n",
              "      border-color: transparent;\n",
              "      border-right-color: var(--fill-color);\n",
              "      border-bottom-color: var(--fill-color);\n",
              "    }\n",
              "    90% {\n",
              "      border-color: transparent;\n",
              "      border-bottom-color: var(--fill-color);\n",
              "    }\n",
              "  }\n",
              "</style>\n",
              "\n",
              "      <script>\n",
              "        async function quickchart(key) {\n",
              "          const quickchartButtonEl =\n",
              "            document.querySelector('#' + key + ' button');\n",
              "          quickchartButtonEl.disabled = true;  // To prevent multiple clicks.\n",
              "          quickchartButtonEl.classList.add('colab-df-spinner');\n",
              "          try {\n",
              "            const charts = await google.colab.kernel.invokeFunction(\n",
              "                'suggestCharts', [key], {});\n",
              "          } catch (error) {\n",
              "            console.error('Error during call to suggestCharts:', error);\n",
              "          }\n",
              "          quickchartButtonEl.classList.remove('colab-df-spinner');\n",
              "          quickchartButtonEl.classList.add('colab-df-quickchart-complete');\n",
              "        }\n",
              "        (() => {\n",
              "          let quickchartButtonEl =\n",
              "            document.querySelector('#df-bf3272e6-bf0b-41da-9c71-14f5d53c0bdc button');\n",
              "          quickchartButtonEl.style.display =\n",
              "            google.colab.kernel.accessAllowed ? 'block' : 'none';\n",
              "        })();\n",
              "      </script>\n",
              "    </div>\n",
              "\n",
              "    </div>\n",
              "  </div>\n"
            ],
            "application/vnd.google.colaboratory.intrinsic+json": {
              "type": "dataframe",
              "summary": "{\n  \"name\": \"df\",\n  \"rows\": 4,\n  \"fields\": [\n    {\n      \"column\": \"textID\",\n      \"properties\": {\n        \"dtype\": \"string\",\n        \"num_unique_values\": 3,\n        \"samples\": [\n          \"24732\",\n          \"dfa774bd3d\",\n          \"1\"\n        ],\n        \"semantic_type\": \"\",\n        \"description\": \"\"\n      }\n    },\n    {\n      \"column\": \"text\",\n      \"properties\": {\n        \"dtype\": \"string\",\n        \"num_unique_values\": 3,\n        \"samples\": [\n          \"24732\",\n          \" Content content content .... gah! Story of my life right now - thx for reminding me. That`s what I should be doing v. Tweeting\",\n          \"1\"\n        ],\n        \"semantic_type\": \"\",\n        \"description\": \"\"\n      }\n    },\n    {\n      \"column\": \"selected_text\",\n      \"properties\": {\n        \"dtype\": \"string\",\n        \"num_unique_values\": 4,\n        \"samples\": [\n          20298,\n          \"174\",\n          \"24732\"\n        ],\n        \"semantic_type\": \"\",\n        \"description\": \"\"\n      }\n    },\n    {\n      \"column\": \"sentiment\",\n      \"properties\": {\n        \"dtype\": \"string\",\n        \"num_unique_values\": 4,\n        \"samples\": [\n          3,\n          \"10018\",\n          \"24732\"\n        ],\n        \"semantic_type\": \"\",\n        \"description\": \"\"\n      }\n    }\n  ]\n}"
            }
          },
          "metadata": {},
          "execution_count": 5
        }
      ],
      "execution_count": 5
    },
    {
      "id": "a9998433-00b6-46d7-895d-421afe31a8bc",
      "cell_type": "code",
      "source": [
        "df['sentiment'].value_counts()"
      ],
      "metadata": {
        "trusted": true,
        "execution": {
          "iopub.status.busy": "2025-06-04T11:56:01.112596Z",
          "iopub.execute_input": "2025-06-04T11:56:01.112862Z",
          "iopub.status.idle": "2025-06-04T11:56:01.123966Z",
          "shell.execute_reply.started": "2025-06-04T11:56:01.112840Z",
          "shell.execute_reply": "2025-06-04T11:56:01.123048Z"
        },
        "id": "a9998433-00b6-46d7-895d-421afe31a8bc",
        "outputId": "b90805b7-efed-48d1-d564-2c94c48c082f",
        "colab": {
          "base_uri": "https://localhost:8080/",
          "height": 209
        }
      },
      "outputs": [
        {
          "output_type": "execute_result",
          "data": {
            "text/plain": [
              "sentiment\n",
              "neutral     10018\n",
              "positive     7711\n",
              "negative     7003\n",
              "Name: count, dtype: int64"
            ],
            "text/html": [
              "<div>\n",
              "<style scoped>\n",
              "    .dataframe tbody tr th:only-of-type {\n",
              "        vertical-align: middle;\n",
              "    }\n",
              "\n",
              "    .dataframe tbody tr th {\n",
              "        vertical-align: top;\n",
              "    }\n",
              "\n",
              "    .dataframe thead th {\n",
              "        text-align: right;\n",
              "    }\n",
              "</style>\n",
              "<table border=\"1\" class=\"dataframe\">\n",
              "  <thead>\n",
              "    <tr style=\"text-align: right;\">\n",
              "      <th></th>\n",
              "      <th>count</th>\n",
              "    </tr>\n",
              "    <tr>\n",
              "      <th>sentiment</th>\n",
              "      <th></th>\n",
              "    </tr>\n",
              "  </thead>\n",
              "  <tbody>\n",
              "    <tr>\n",
              "      <th>neutral</th>\n",
              "      <td>10018</td>\n",
              "    </tr>\n",
              "    <tr>\n",
              "      <th>positive</th>\n",
              "      <td>7711</td>\n",
              "    </tr>\n",
              "    <tr>\n",
              "      <th>negative</th>\n",
              "      <td>7003</td>\n",
              "    </tr>\n",
              "  </tbody>\n",
              "</table>\n",
              "</div><br><label><b>dtype:</b> int64</label>"
            ]
          },
          "metadata": {},
          "execution_count": 6
        }
      ],
      "execution_count": 6
    },
    {
      "id": "c4e2923a-1d3f-4dbb-ae1c-41ebf5b18c83",
      "cell_type": "code",
      "source": [
        "# Plot\n",
        "sns.countplot(x='sentiment', data=df, palette='bright')\n",
        "plt.title('Sentiment Distribution')\n",
        "plt.xlabel('Sentiment')\n",
        "plt.ylabel('Number of samples')\n",
        "plt.show()"
      ],
      "metadata": {
        "trusted": true,
        "execution": {
          "iopub.status.busy": "2025-06-04T11:56:01.125014Z",
          "iopub.execute_input": "2025-06-04T11:56:01.125313Z",
          "iopub.status.idle": "2025-06-04T11:56:01.439020Z",
          "shell.execute_reply.started": "2025-06-04T11:56:01.125283Z",
          "shell.execute_reply": "2025-06-04T11:56:01.438032Z"
        },
        "id": "c4e2923a-1d3f-4dbb-ae1c-41ebf5b18c83",
        "outputId": "67c19c2b-56a3-4785-f771-632d7bafe303",
        "colab": {
          "base_uri": "https://localhost:8080/",
          "height": 559
        }
      },
      "outputs": [
        {
          "output_type": "stream",
          "name": "stderr",
          "text": [
            "<ipython-input-7-6f9b97815d82>:2: FutureWarning: \n",
            "\n",
            "Passing `palette` without assigning `hue` is deprecated and will be removed in v0.14.0. Assign the `x` variable to `hue` and set `legend=False` for the same effect.\n",
            "\n",
            "  sns.countplot(x='sentiment', data=df, palette='bright')\n"
          ]
        },
        {
          "output_type": "display_data",
          "data": {
            "text/plain": [
              "<Figure size 640x480 with 1 Axes>"
            ],
            "image/png": "[encoded data removed]"
          },
          "metadata": {}
        }
      ],
      "execution_count": 7
    },
    {
      "id": "c8c8735b-e0eb-4d66-aea4-5edb07cb0c07",
      "cell_type": "markdown",
      "source": [
        "# Preprocessing"
      ],
      "metadata": {
        "id": "c8c8735b-e0eb-4d66-aea4-5edb07cb0c07"
      }
    },
    {
      "id": "5cca2021-c8c4-4bf8-928e-0fa21eeb0acf",
      "cell_type": "markdown",
      "source": [
        "## Text cleansing"
      ],
      "metadata": {
        "id": "5cca2021-c8c4-4bf8-928e-0fa21eeb0acf"
      }
    },
    {
      "id": "90bb6255-fa27-43e4-a2ee-a068c2810501",
      "cell_type": "code",
      "source": [
        "'''\n",
        "import nltk\n",
        "import spacy\n",
        "from nltk.corpus import stopwords\n",
        "from nltk.tokenize import word_tokenize\n",
        "import string\n",
        "\n",
        "\n",
        "# Carica modello spaCy\n",
        "nlp = spacy.load(\"en_core_web_sm\")\n",
        "\n",
        "# Stopwords personalizzate (manteniamo le negazioni)\n",
        "stop_words = set(stopwords.words('english'))\n",
        "negations = {'no', 'not', 'nor'}\n",
        "stop_words = stop_words.difference(negations)\n",
        "\n",
        "def preprocess_text(text):\n",
        "    # Rimuove punteggiatura\n",
        "    text = text.translate(str.maketrans('', '', string.punctuation))\n",
        "\n",
        "    # Tokenizzazione\n",
        "    tokens = word_tokenize(text.lower())\n",
        "\n",
        "    # Lemmatizzazione con spaCy (sul testo completamente lowercase)\n",
        "    doc = nlp(\" \".join(tokens).lower())\n",
        "    lemmatized_tokens = [token.lemma_.lower() for token in doc]\n",
        "\n",
        "\n",
        "    # Rimozione stopwords\n",
        "    final_tokens = [token for token in lemmatized_tokens if token not in stop_words and token.strip()]\n",
        "\n",
        "    return final_tokens\n",
        "\n",
        "df['removed_stop_words'] = df['text'].apply(lambda x: preprocess_text(x))\n",
        "'''"
      ],
      "metadata": {
        "trusted": true,
        "execution": {
          "iopub.status.busy": "2025-06-04T11:56:01.439941Z",
          "iopub.execute_input": "2025-06-04T11:56:01.440275Z",
          "iopub.status.idle": "2025-06-04T11:56:01.446207Z",
          "shell.execute_reply.started": "2025-06-04T11:56:01.440249Z",
          "shell.execute_reply": "2025-06-04T11:56:01.445418Z"
        },
        "id": "90bb6255-fa27-43e4-a2ee-a068c2810501",
        "outputId": "3ed4679d-4aff-40de-ed88-5d7193399614",
        "colab": {
          "base_uri": "https://localhost:8080/",
          "height": 123
        }
      },
      "outputs": [
        {
          "output_type": "execute_result",
          "data": {
            "text/plain": [
              "'\\nimport nltk\\nimport spacy\\nfrom nltk.corpus import stopwords\\nfrom nltk.tokenize import word_tokenize\\nimport string\\n\\n\\n# Carica modello spaCy\\nnlp = spacy.load(\"en_core_web_sm\")\\n\\n# Stopwords personalizzate (manteniamo le negazioni)\\nstop_words = set(stopwords.words(\\'english\\'))\\nnegations = {\\'no\\', \\'not\\', \\'nor\\'}\\nstop_words = stop_words.difference(negations)\\n\\ndef preprocess_text(text):\\n    # Rimuove punteggiatura\\n    text = text.translate(str.maketrans(\\'\\', \\'\\', string.punctuation))\\n    \\n    # Tokenizzazione\\n    tokens = word_tokenize(text.lower())\\n    \\n    # Lemmatizzazione con spaCy (sul testo completamente lowercase)\\n    doc = nlp(\" \".join(tokens).lower())\\n    lemmatized_tokens = [token.lemma_.lower() for token in doc]\\n\\n    \\n    # Rimozione stopwords\\n    final_tokens = [token for token in lemmatized_tokens if token not in stop_words and token.strip()]\\n    \\n    return final_tokens\\n\\ndf[\\'removed_stop_words\\'] = df[\\'text\\'].apply(lambda x: preprocess_text(x))\\n'"
            ],
            "application/vnd.google.colaboratory.intrinsic+json": {
              "type": "string"
            }
          },
          "metadata": {},
          "execution_count": 8
        }
      ],
      "execution_count": 8
    },
    {
      "id": "39489c73-c783-413c-8239-a6a24a85d4c1",
      "cell_type": "code",
      "source": [
        "!pip install spacy nltk num2words\n",
        "!python -m nltk.downloader punkt stopwords\n",
        "!python -m spacy download en_core_web_sm\n"
      ],
      "metadata": {
        "trusted": true,
        "execution": {
          "iopub.status.busy": "2025-06-04T11:56:01.446966Z",
          "iopub.execute_input": "2025-06-04T11:56:01.447921Z",
          "iopub.status.idle": "2025-06-04T11:56:19.909688Z",
          "shell.execute_reply.started": "2025-06-04T11:56:01.447882Z",
          "shell.execute_reply": "2025-06-04T11:56:19.908730Z"
        },
        "id": "39489c73-c783-413c-8239-a6a24a85d4c1",
        "outputId": "4d643c9f-16d5-49f5-b201-b85805e60750",
        "colab": {
          "base_uri": "https://localhost:8080/"
        }
      },
      "outputs": [
        {
          "output_type": "stream",
          "name": "stdout",
          "text": [
            "Requirement already satisfied: spacy in /usr/local/lib/python3.11/dist-packages (3.8.7)\n",
            "Requirement already satisfied: nltk in /usr/local/lib/python3.11/dist-packages (3.9.1)\n",
            "Collecting num2words\n",
            "  Downloading num2words-0.5.14-py3-none-any.whl.metadata (13 kB)\n",
            "Requirement already satisfied: spacy-legacy<3.1.0,>=3.0.11 in /usr/local/lib/python3.11/dist-packages (from spacy) (3.0.12)\n",
            "Requirement already satisfied: spacy-loggers<2.0.0,>=1.0.0 in /usr/local/lib/python3.11/dist-packages (from spacy) (1.0.5)\n",
            "Requirement already satisfied: murmurhash<1.1.0,>=0.28.0 in /usr/local/lib/python3.11/dist-packages (from spacy) (1.0.13)\n",
            "Requirement already satisfied: cymem<2.1.0,>=2.0.2 in /usr/local/lib/python3.11/dist-packages (from spacy) (2.0.11)\n",
            "Requirement already satisfied: preshed<3.1.0,>=3.0.2 in /usr/local/lib/python3.11/dist-packages (from spacy) (3.0.10)\n",
            "Requirement already satisfied: thinc<8.4.0,>=8.3.4 in /usr/local/lib/python3.11/dist-packages (from spacy) (8.3.6)\n",
            "Requirement already satisfied: wasabi<1.2.0,>=0.9.1 in /usr/local/lib/python3.11/dist-packages (from spacy) (1.1.3)\n",
            "Requirement already satisfied: srsly<3.0.0,>=2.4.3 in /usr/local/lib/python3.11/dist-packages (from spacy) (2.5.1)\n",
            "Requirement already satisfied: catalogue<2.1.0,>=2.0.6 in /usr/local/lib/python3.11/dist-packages (from spacy) (2.0.10)\n",
            "Requirement already satisfied: weasel<0.5.0,>=0.1.0 in /usr/local/lib/python3.11/dist-packages (from spacy) (0.4.1)\n",
            "Requirement already satisfied: typer<1.0.0,>=0.3.0 in /usr/local/lib/python3.11/dist-packages (from spacy) (0.16.0)\n",
            "Requirement already satisfied: tqdm<5.0.0,>=4.38.0 in /usr/local/lib/python3.11/dist-packages (from spacy) (4.67.1)\n",
            "Requirement already satisfied: numpy>=1.19.0 in /usr/local/lib/python3.11/dist-packages (from spacy) (2.0.2)\n",
            "Requirement already satisfied: requests<3.0.0,>=2.13.0 in /usr/local/lib/python3.11/dist-packages (from spacy) (2.32.3)\n",
            "Requirement already satisfied: pydantic!=1.8,!=1.8.1,<3.0.0,>=1.7.4 in /usr/local/lib/python3.11/dist-packages (from spacy) (2.11.5)\n",
            "Requirement already satisfied: jinja2 in /usr/local/lib/python3.11/dist-packages (from spacy) (3.1.6)\n",
            "Requirement already satisfied: setuptools in /usr/local/lib/python3.11/dist-packages (from spacy) (75.2.0)\n",
            "Requirement already satisfied: packaging>=20.0 in /usr/local/lib/python3.11/dist-packages (from spacy) (24.2)\n",
            "Requirement already satisfied: langcodes<4.0.0,>=3.2.0 in /usr/local/lib/python3.11/dist-packages (from spacy) (3.5.0)\n",
            "Requirement already satisfied: click in /usr/local/lib/python3.11/dist-packages (from nltk) (8.2.1)\n",
            "Requirement already satisfied: joblib in /usr/local/lib/python3.11/dist-packages (from nltk) (1.5.1)\n",
            "Requirement already satisfied: regex>=2021.8.3 in /usr/local/lib/python3.11/dist-packages (from nltk) (2024.11.6)\n",
            "Collecting docopt>=0.6.2 (from num2words)\n",
            "  Downloading docopt-0.6.2.tar.gz (25 kB)\n",
            "  Preparing metadata (setup.py) ... \u001b[?25l\u001b[?25hdone\n",
            "Requirement already satisfied: language-data>=1.2 in /usr/local/lib/python3.11/dist-packages (from langcodes<4.0.0,>=3.2.0->spacy) (1.3.0)\n",
            "Requirement already satisfied: annotated-types>=0.6.0 in /usr/local/lib/python3.11/dist-packages (from pydantic!=1.8,!=1.8.1,<3.0.0,>=1.7.4->spacy) (0.7.0)\n",
            "Requirement already satisfied: pydantic-core==2.33.2 in /usr/local/lib/python3.11/dist-packages (from pydantic!=1.8,!=1.8.1,<3.0.0,>=1.7.4->spacy) (2.33.2)\n",
            "Requirement already satisfied: typing-extensions>=4.12.2 in /usr/local/lib/python3.11/dist-packages (from pydantic!=1.8,!=1.8.1,<3.0.0,>=1.7.4->spacy) (4.13.2)\n",
            "Requirement already satisfied: typing-inspection>=0.4.0 in /usr/local/lib/python3.11/dist-packages (from pydantic!=1.8,!=1.8.1,<3.0.0,>=1.7.4->spacy) (0.4.1)\n",
            "Requirement already satisfied: charset-normalizer<4,>=2 in /usr/local/lib/python3.11/dist-packages (from requests<3.0.0,>=2.13.0->spacy) (3.4.2)\n",
            "Requirement already satisfied: idna<4,>=2.5 in /usr/local/lib/python3.11/dist-packages (from requests<3.0.0,>=2.13.0->spacy) (3.10)\n",
            "Requirement already satisfied: urllib3<3,>=1.21.1 in /usr/local/lib/python3.11/dist-packages (from requests<3.0.0,>=2.13.0->spacy) (2.4.0)\n",
            "Requirement already satisfied: certifi>=2017.4.17 in /usr/local/lib/python3.11/dist-packages (from requests<3.0.0,>=2.13.0->spacy) (2025.4.26)\n",
            "Requirement already satisfied: blis<1.4.0,>=1.3.0 in /usr/local/lib/python3.11/dist-packages (from thinc<8.4.0,>=8.3.4->spacy) (1.3.0)\n",
            "Requirement already satisfied: confection<1.0.0,>=0.0.1 in /usr/local/lib/python3.11/dist-packages (from thinc<8.4.0,>=8.3.4->spacy) (0.1.5)\n",
            "Requirement already satisfied: shellingham>=1.3.0 in /usr/local/lib/python3.11/dist-packages (from typer<1.0.0,>=0.3.0->spacy) (1.5.4)\n",
            "Requirement already satisfied: rich>=10.11.0 in /usr/local/lib/python3.11/dist-packages (from typer<1.0.0,>=0.3.0->spacy) (13.9.4)\n",
            "Requirement already satisfied: cloudpathlib<1.0.0,>=0.7.0 in /usr/local/lib/python3.11/dist-packages (from weasel<0.5.0,>=0.1.0->spacy) (0.21.1)\n",
            "Requirement already satisfied: smart-open<8.0.0,>=5.2.1 in /usr/local/lib/python3.11/dist-packages (from weasel<0.5.0,>=0.1.0->spacy) (7.1.0)\n",
            "Requirement already satisfied: MarkupSafe>=2.0 in /usr/local/lib/python3.11/dist-packages (from jinja2->spacy) (3.0.2)\n",
            "Requirement already satisfied: marisa-trie>=1.1.0 in /usr/local/lib/python3.11/dist-packages (from language-data>=1.2->langcodes<4.0.0,>=3.2.0->spacy) (1.2.1)\n",
            "Requirement already satisfied: markdown-it-py>=2.2.0 in /usr/local/lib/python3.11/dist-packages (from rich>=10.11.0->typer<1.0.0,>=0.3.0->spacy) (3.0.0)\n",
            "Requirement already satisfied: pygments<3.0.0,>=2.13.0 in /usr/local/lib/python3.11/dist-packages (from rich>=10.11.0->typer<1.0.0,>=0.3.0->spacy) (2.19.1)\n",
            "Requirement already satisfied: wrapt in /usr/local/lib/python3.11/dist-packages (from smart-open<8.0.0,>=5.2.1->weasel<0.5.0,>=0.1.0->spacy) (1.17.2)\n",
            "Requirement already satisfied: mdurl~=0.1 in /usr/local/lib/python3.11/dist-packages (from markdown-it-py>=2.2.0->rich>=10.11.0->typer<1.0.0,>=0.3.0->spacy) (0.1.2)\n",
            "Downloading num2words-0.5.14-py3-none-any.whl (163 kB)\n",
            "\u001b[2K   \u001b[90m━━━━━━━━━━━━━━━━━━━━━━━━━━━━━━━━━━━━━━━━\u001b[0m \u001b[32m163.5/163.5 kB\u001b[0m \u001b[31m5.7 MB/s\u001b[0m eta \u001b[36m0:00:00\u001b[0m\n",
            "\u001b[?25hBuilding wheels for collected packages: docopt\n",
            "  Building wheel for docopt (setup.py) ... \u001b[?25l\u001b[?25hdone\n",
            "  Created wheel for docopt: filename=docopt-0.6.2-py2.py3-none-any.whl size=13706 sha256=ed1237d60fa68df973195058f92d009de52b94f0eee28b3128b3531d86b841ab\n",
            "  Stored in directory: /root/.cache/pip/wheels/1a/b0/8c/4b75c4116c31f83c8f9f047231251e13cc74481cca4a78a9ce\n",
            "Successfully built docopt\n",
            "Installing collected packages: docopt, num2words\n",
            "Successfully installed docopt-0.6.2 num2words-0.5.14\n",
            "<frozen runpy>:128: RuntimeWarning: 'nltk.downloader' found in sys.modules after import of package 'nltk', but prior to execution of 'nltk.downloader'; this may result in unpredictable behaviour\n",
            "[nltk_data] Downloading package punkt to /root/nltk_data...\n",
            "[nltk_data]   Unzipping tokenizers/punkt.zip.\n",
            "[nltk_data] Downloading package stopwords to /root/nltk_data...\n",
            "[nltk_data]   Unzipping corpora/stopwords.zip.\n",
            "Collecting en-core-web-sm==3.8.0\n",
            "  Downloading https://github.com/explosion/spacy-models/releases/download/en_core_web_sm-3.8.0/en_core_web_sm-3.8.0-py3-none-any.whl (12.8 MB)\n",
            "\u001b[2K     \u001b[90m━━━━━━━━━━━━━━━━━━━━━━━━━━━━━━━━━━━━━━━━\u001b[0m \u001b[32m12.8/12.8 MB\u001b[0m \u001b[31m69.1 MB/s\u001b[0m eta \u001b[36m0:00:00\u001b[0m\n",
            "\u001b[?25h\u001b[38;5;2m✔ Download and installation successful\u001b[0m\n",
            "You can now load the package via spacy.load('en_core_web_sm')\n",
            "\u001b[38;5;3m⚠ Restart to reload dependencies\u001b[0m\n",
            "If you are in a Jupyter or Colab notebook, you may need to restart Python in\n",
            "order to load all the package's dependencies. You can do this by selecting the\n",
            "'Restart kernel' or 'Restart runtime' option.\n"
          ]
        }
      ],
      "execution_count": 9
    },
    {
      "id": "5d6a1940-7380-485a-aba5-14d4ff751bd9",
      "cell_type": "code",
      "source": [
        "import re\n",
        "import string\n",
        "import unicodedata\n",
        "import nltk\n",
        "import spacy\n",
        "from nltk.corpus import stopwords\n",
        "from num2words import num2words\n",
        "\n",
        "# Downloads if needed\n",
        "nltk.download('stopwords')\n",
        "\n",
        "# Load spaCy model\n",
        "nlp = spacy.load(\"en_core_web_sm\")\n",
        "\n",
        "# Custom stopwords keeping negations\n",
        "stop_words = set(stopwords.words('english'))\n",
        "negations = {'no', 'not', 'nor'}\n",
        "stop_words = stop_words.difference(negations)\n",
        "\n",
        "def preprocess_text(text):\n",
        "    # 1. Remove URLs\n",
        "    text = re.sub(r'http\\S+|www\\S+|https\\S+', '', text, flags=re.MULTILINE)\n",
        "\n",
        "    # 2. Remove mentions and hashtags\n",
        "    text = re.sub(r'@\\w+', '', text)\n",
        "    text = re.sub(r'#\\w+', '', text)\n",
        "\n",
        "    # 3. Remove accented characters\n",
        "    text = unicodedata.normalize('NFKD', text).encode('ASCII', 'ignore').decode('utf-8', 'ignore')\n",
        "\n",
        "    # 4. Remove punctuation\n",
        "    text = text.translate(str.maketrans('', '', string.punctuation))\n",
        "\n",
        "    # 5. Convert numbers to words\n",
        "    def replace_numbers(match):\n",
        "        return num2words(match.group())\n",
        "    text = re.sub(r'\\b\\d+\\b', replace_numbers, text)\n",
        "\n",
        "    # 6. Lowercase\n",
        "    text = text.lower()\n",
        "\n",
        "    # 7. Lemmatize and tokenize with spaCy\n",
        "    doc = nlp(text)\n",
        "\n",
        "    # 8. Remove stopwords and non-alpha tokens\n",
        "    tokens = [\n",
        "        token.lemma_.lower()\n",
        "        for token in doc\n",
        "        if token.lemma_.lower() not in stop_words and token.lemma_.isalpha()\n",
        "    ]\n",
        "\n",
        "    return tokens\n"
      ],
      "metadata": {
        "trusted": true,
        "execution": {
          "iopub.status.busy": "2025-06-04T11:56:19.912701Z",
          "iopub.execute_input": "2025-06-04T11:56:19.913043Z",
          "iopub.status.idle": "2025-06-04T11:56:20.859339Z",
          "shell.execute_reply.started": "2025-06-04T11:56:19.913010Z",
          "shell.execute_reply": "2025-06-04T11:56:20.858294Z"
        },
        "id": "5d6a1940-7380-485a-aba5-14d4ff751bd9",
        "outputId": "e0830768-9d93-4c9c-acdd-f8efa646b248",
        "colab": {
          "base_uri": "https://localhost:8080/"
        }
      },
      "outputs": [
        {
          "output_type": "stream",
          "name": "stderr",
          "text": [
            "[nltk_data] Downloading package stopwords to /root/nltk_data...\n",
            "[nltk_data]   Package stopwords is already up-to-date!\n"
          ]
        }
      ],
      "execution_count": 20
    },
    {
      "id": "87a36271-c6eb-4803-8285-68d24772516e",
      "cell_type": "code",
      "source": [
        "df['removed_stop_words'] = df['text'].apply(lambda x: preprocess_text(x))"
      ],
      "metadata": {
        "trusted": true,
        "execution": {
          "iopub.status.busy": "2025-06-04T11:56:20.860075Z",
          "iopub.execute_input": "2025-06-04T11:56:20.860333Z",
          "iopub.status.idle": "2025-06-04T11:59:33.155978Z",
          "shell.execute_reply.started": "2025-06-04T11:56:20.860316Z",
          "shell.execute_reply": "2025-06-04T11:59:33.154561Z"
        },
        "id": "87a36271-c6eb-4803-8285-68d24772516e"
      },
      "outputs": [],
      "execution_count": 21
    },
    {
      "id": "7f591932-eb94-4a32-948c-fc5c230ef644",
      "cell_type": "code",
      "source": [
        "df.sample(10)"
      ],
      "metadata": {
        "trusted": true,
        "execution": {
          "iopub.status.busy": "2025-06-04T11:59:33.157346Z",
          "iopub.execute_input": "2025-06-04T11:59:33.157719Z",
          "iopub.status.idle": "2025-06-04T11:59:33.173575Z",
          "shell.execute_reply.started": "2025-06-04T11:59:33.157689Z",
          "shell.execute_reply": "2025-06-04T11:59:33.172662Z"
        },
        "id": "7f591932-eb94-4a32-948c-fc5c230ef644",
        "outputId": "9e08a8fc-44ab-4408-a635-e06d00e8699f",
        "colab": {
          "base_uri": "https://localhost:8080/",
          "height": 432
        }
      },
      "outputs": [
        {
          "output_type": "execute_result",
          "data": {
            "text/plain": [
              "           textID                                               text  \\\n",
              "5504   7f1bc73a3b                                Ugh. Going to skool   \n",
              "7421   d6daf5cd2b                       my boss. She`s moving to NYC   \n",
              "10514  51f3420c03      i have been getting **** ones as i mention...   \n",
              "4518   4e914d79e9  finally got home and get to sleep! had a great...   \n",
              "4071   a9e5b6a9f8               Pissed at you   http://myloc.me/21CU   \n",
              "21250  7b7f672bff          tonight in party w/ my girls (minus vita)   \n",
              "4540   0df4545864  Happy Mother`s Day to all of the mothers and m...   \n",
              "18945  54cb84a979                                           Yeah  :p   \n",
              "10119  3ceefccbc8   most definately! They are having a hard time,...   \n",
              "21209  8dcc4221eb  **** another day at the office, the sun is bur...   \n",
              "\n",
              "                                           selected_text sentiment  \\\n",
              "5504                                 Ugh. Going to skool   neutral   \n",
              "7421                        my boss. She`s moving to NYC   neutral   \n",
              "10514            d - all these girls seem to be at a los  negative   \n",
              "4518                                    had a great time  positive   \n",
              "4071                                       Pissed at you  negative   \n",
              "21250          tonight in party w/ my girls (minus vita)  positive   \n",
              "4540                                  Happy Mother`s Day  positive   \n",
              "18945                                           Yeah  :p   neutral   \n",
              "10119                       They are having a hard time,  negative   \n",
              "21209  **** another day at the office, the sun is bur...   neutral   \n",
              "\n",
              "                                      removed_stop_words  \\\n",
              "5504                                    [ugh, go, skool]   \n",
              "7421                                   [boss, move, nyc]   \n",
              "10514              [get, one, mention, girl, seem, loss]   \n",
              "4518   [finally, get, home, get, sleep, great, time, ...   \n",
              "4071                                              [piss]   \n",
              "21250             [tonight, party, w, girl, minus, vita]   \n",
              "4540   [happy, mother, day, mother, motherstobe, mom,...   \n",
              "18945                                          [yeah, p]   \n",
              "10119  [definately, hard, time, cuz, young, never, se...   \n",
              "21209  [another, day, office, sun, burst, skyand, wom...   \n",
              "\n",
              "                                          processed_text  \n",
              "5504                                        ugh go skool  \n",
              "7421                                       boss move nyc  \n",
              "10514                     get one mention girl seem loss  \n",
              "4518        finally get home get sleep great time friend  \n",
              "4071                                                piss  \n",
              "21250                    tonight party w girl minus vita  \n",
              "4540   happy mother day mother motherstobe mom get sp...  \n",
              "18945                                             yeah p  \n",
              "10119  definately hard time cuz young never see wrkd ...  \n",
              "21209  another day office sun burst skyand woman eh w...  "
            ],
            "text/html": [
              "\n",
              "  <div id=\"df-5a28b233-d684-4ed2-a3f5-3a42f7b927b6\" class=\"colab-df-container\">\n",
              "    <div>\n",
              "<style scoped>\n",
              "    .dataframe tbody tr th:only-of-type {\n",
              "        vertical-align: middle;\n",
              "    }\n",
              "\n",
              "    .dataframe tbody tr th {\n",
              "        vertical-align: top;\n",
              "    }\n",
              "\n",
              "    .dataframe thead th {\n",
              "        text-align: right;\n",
              "    }\n",
              "</style>\n",
              "<table border=\"1\" class=\"dataframe\">\n",
              "  <thead>\n",
              "    <tr style=\"text-align: right;\">\n",
              "      <th></th>\n",
              "      <th>textID</th>\n",
              "      <th>text</th>\n",
              "      <th>selected_text</th>\n",
              "      <th>sentiment</th>\n",
              "      <th>removed_stop_words</th>\n",
              "      <th>processed_text</th>\n",
              "    </tr>\n",
              "  </thead>\n",
              "  <tbody>\n",
              "    <tr>\n",
              "      <th>5504</th>\n",
              "      <td>7f1bc73a3b</td>\n",
              "      <td>Ugh. Going to skool</td>\n",
              "      <td>Ugh. Going to skool</td>\n",
              "      <td>neutral</td>\n",
              "      <td>[ugh, go, skool]</td>\n",
              "      <td>ugh go skool</td>\n",
              "    </tr>\n",
              "    <tr>\n",
              "      <th>7421</th>\n",
              "      <td>d6daf5cd2b</td>\n",
              "      <td>my boss. She`s moving to NYC</td>\n",
              "      <td>my boss. She`s moving to NYC</td>\n",
              "      <td>neutral</td>\n",
              "      <td>[boss, move, nyc]</td>\n",
              "      <td>boss move nyc</td>\n",
              "    </tr>\n",
              "    <tr>\n",
              "      <th>10514</th>\n",
              "      <td>51f3420c03</td>\n",
              "      <td>i have been getting **** ones as i mention...</td>\n",
              "      <td>d - all these girls seem to be at a los</td>\n",
              "      <td>negative</td>\n",
              "      <td>[get, one, mention, girl, seem, loss]</td>\n",
              "      <td>get one mention girl seem loss</td>\n",
              "    </tr>\n",
              "    <tr>\n",
              "      <th>4518</th>\n",
              "      <td>4e914d79e9</td>\n",
              "      <td>finally got home and get to sleep! had a great...</td>\n",
              "      <td>had a great time</td>\n",
              "      <td>positive</td>\n",
              "      <td>[finally, get, home, get, sleep, great, time, ...</td>\n",
              "      <td>finally get home get sleep great time friend</td>\n",
              "    </tr>\n",
              "    <tr>\n",
              "      <th>4071</th>\n",
              "      <td>a9e5b6a9f8</td>\n",
              "      <td>Pissed at you   http://myloc.me/21CU</td>\n",
              "      <td>Pissed at you</td>\n",
              "      <td>negative</td>\n",
              "      <td>[piss]</td>\n",
              "      <td>piss</td>\n",
              "    </tr>\n",
              "    <tr>\n",
              "      <th>21250</th>\n",
              "      <td>7b7f672bff</td>\n",
              "      <td>tonight in party w/ my girls (minus vita)</td>\n",
              "      <td>tonight in party w/ my girls (minus vita)</td>\n",
              "      <td>positive</td>\n",
              "      <td>[tonight, party, w, girl, minus, vita]</td>\n",
              "      <td>tonight party w girl minus vita</td>\n",
              "    </tr>\n",
              "    <tr>\n",
              "      <th>4540</th>\n",
              "      <td>0df4545864</td>\n",
              "      <td>Happy Mother`s Day to all of the mothers and m...</td>\n",
              "      <td>Happy Mother`s Day</td>\n",
              "      <td>positive</td>\n",
              "      <td>[happy, mother, day, mother, motherstobe, mom,...</td>\n",
              "      <td>happy mother day mother motherstobe mom get sp...</td>\n",
              "    </tr>\n",
              "    <tr>\n",
              "      <th>18945</th>\n",
              "      <td>54cb84a979</td>\n",
              "      <td>Yeah  :p</td>\n",
              "      <td>Yeah  :p</td>\n",
              "      <td>neutral</td>\n",
              "      <td>[yeah, p]</td>\n",
              "      <td>yeah p</td>\n",
              "    </tr>\n",
              "    <tr>\n",
              "      <th>10119</th>\n",
              "      <td>3ceefccbc8</td>\n",
              "      <td>most definately! They are having a hard time,...</td>\n",
              "      <td>They are having a hard time,</td>\n",
              "      <td>negative</td>\n",
              "      <td>[definately, hard, time, cuz, young, never, se...</td>\n",
              "      <td>definately hard time cuz young never see wrkd ...</td>\n",
              "    </tr>\n",
              "    <tr>\n",
              "      <th>21209</th>\n",
              "      <td>8dcc4221eb</td>\n",
              "      <td>**** another day at the office, the sun is bur...</td>\n",
              "      <td>**** another day at the office, the sun is bur...</td>\n",
              "      <td>neutral</td>\n",
              "      <td>[another, day, office, sun, burst, skyand, wom...</td>\n",
              "      <td>another day office sun burst skyand woman eh w...</td>\n",
              "    </tr>\n",
              "  </tbody>\n",
              "</table>\n",
              "</div>\n",
              "    <div class=\"colab-df-buttons\">\n",
              "\n",
              "  <div class=\"colab-df-container\">\n",
              "    <button class=\"colab-df-convert\" onclick=\"convertToInteractive('df-5a28b233-d684-4ed2-a3f5-3a42f7b927b6')\"\n",
              "            title=\"Convert this dataframe to an interactive table.\"\n",
              "            style=\"display:none;\">\n",
              "\n",
              "  <svg xmlns=\"http://www.w3.org/2000/svg\" height=\"24px\" viewBox=\"0 -960 960 960\">\n",
              "    <path d=\"M120-120v-720h720v720H120Zm60-500h600v-160H180v160Zm220 220h160v-160H400v160Zm0 220h160v-160H400v160ZM180-400h160v-160H180v160Zm440 0h160v-160H620v160ZM180-180h160v-160H180v160Zm440 0h160v-160H620v160Z\"/>\n",
              "  </svg>\n",
              "    </button>\n",
              "\n",
              "  <style>\n",
              "    .colab-df-container {\n",
              "      display:flex;\n",
              "      gap: 12px;\n",
              "    }\n",
              "\n",
              "    .colab-df-convert {\n",
              "      background-color: #E8F0FE;\n",
              "      border: none;\n",
              "      border-radius: 50%;\n",
              "      cursor: pointer;\n",
              "      display: none;\n",
              "      fill: #1967D2;\n",
              "      height: 32px;\n",
              "      padding: 0 0 0 0;\n",
              "      width: 32px;\n",
              "    }\n",
              "\n",
              "    .colab-df-convert:hover {\n",
              "      background-color: #E2EBFA;\n",
              "      box-shadow: 0px 1px 2px rgba(60, 64, 67, 0.3), 0px 1px 3px 1px rgba(60, 64, 67, 0.15);\n",
              "      fill: #174EA6;\n",
              "    }\n",
              "\n",
              "    .colab-df-buttons div {\n",
              "      margin-bottom: 4px;\n",
              "    }\n",
              "\n",
              "    [theme=dark] .colab-df-convert {\n",
              "      background-color: #3B4455;\n",
              "      fill: #D2E3FC;\n",
              "    }\n",
              "\n",
              "    [theme=dark] .colab-df-convert:hover {\n",
              "      background-color: #434B5C;\n",
              "      box-shadow: 0px 1px 3px 1px rgba(0, 0, 0, 0.15);\n",
              "      filter: drop-shadow(0px 1px 2px rgba(0, 0, 0, 0.3));\n",
              "      fill: #FFFFFF;\n",
              "    }\n",
              "  </style>\n",
              "\n",
              "    <script>\n",
              "      const buttonEl =\n",
              "        document.querySelector('#df-5a28b233-d684-4ed2-a3f5-3a42f7b927b6 button.colab-df-convert');\n",
              "      buttonEl.style.display =\n",
              "        google.colab.kernel.accessAllowed ? 'block' : 'none';\n",
              "\n",
              "      async function convertToInteractive(key) {\n",
              "        const element = document.querySelector('#df-5a28b233-d684-4ed2-a3f5-3a42f7b927b6');\n",
              "        const dataTable =\n",
              "          await google.colab.kernel.invokeFunction('convertToInteractive',\n",
              "                                                    [key], {});\n",
              "        if (!dataTable) return;\n",
              "\n",
              "        const docLinkHtml = 'Like what you see? Visit the ' +\n",
              "          '<a target=\"_blank\" href=https://colab.research.google.com/notebooks/data_table.ipynb>data table notebook</a>'\n",
              "          + ' to learn more about interactive tables.';\n",
              "        element.innerHTML = '';\n",
              "        dataTable['output_type'] = 'display_data';\n",
              "        await google.colab.output.renderOutput(dataTable, element);\n",
              "        const docLink = document.createElement('div');\n",
              "        docLink.innerHTML = docLinkHtml;\n",
              "        element.appendChild(docLink);\n",
              "      }\n",
              "    </script>\n",
              "  </div>\n",
              "\n",
              "\n",
              "    <div id=\"df-6eb3714c-f27a-4cbd-9ff8-c08699062eba\">\n",
              "      <button class=\"colab-df-quickchart\" onclick=\"quickchart('df-6eb3714c-f27a-4cbd-9ff8-c08699062eba')\"\n",
              "                title=\"Suggest charts\"\n",
              "                style=\"display:none;\">\n",
              "\n",
              "<svg xmlns=\"http://www.w3.org/2000/svg\" height=\"24px\"viewBox=\"0 0 24 24\"\n",
              "     width=\"24px\">\n",
              "    <g>\n",
              "        <path d=\"M19 3H5c-1.1 0-2 .9-2 2v14c0 1.1.9 2 2 2h14c1.1 0 2-.9 2-2V5c0-1.1-.9-2-2-2zM9 17H7v-7h2v7zm4 0h-2V7h2v10zm4 0h-2v-4h2v4z\"/>\n",
              "    </g>\n",
              "</svg>\n",
              "      </button>\n",
              "\n",
              "<style>\n",
              "  .colab-df-quickchart {\n",
              "      --bg-color: #E8F0FE;\n",
              "      --fill-color: #1967D2;\n",
              "      --hover-bg-color: #E2EBFA;\n",
              "      --hover-fill-color: #174EA6;\n",
              "      --disabled-fill-color: #AAA;\n",
              "      --disabled-bg-color: #DDD;\n",
              "  }\n",
              "\n",
              "  [theme=dark] .colab-df-quickchart {\n",
              "      --bg-color: #3B4455;\n",
              "      --fill-color: #D2E3FC;\n",
              "      --hover-bg-color: #434B5C;\n",
              "      --hover-fill-color: #FFFFFF;\n",
              "      --disabled-bg-color: #3B4455;\n",
              "      --disabled-fill-color: #666;\n",
              "  }\n",
              "\n",
              "  .colab-df-quickchart {\n",
              "    background-color: var(--bg-color);\n",
              "    border: none;\n",
              "    border-radius: 50%;\n",
              "    cursor: pointer;\n",
              "    display: none;\n",
              "    fill: var(--fill-color);\n",
              "    height: 32px;\n",
              "    padding: 0;\n",
              "    width: 32px;\n",
              "  }\n",
              "\n",
              "  .colab-df-quickchart:hover {\n",
              "    background-color: var(--hover-bg-color);\n",
              "    box-shadow: 0 1px 2px rgba(60, 64, 67, 0.3), 0 1px 3px 1px rgba(60, 64, 67, 0.15);\n",
              "    fill: var(--button-hover-fill-color);\n",
              "  }\n",
              "\n",
              "  .colab-df-quickchart-complete:disabled,\n",
              "  .colab-df-quickchart-complete:disabled:hover {\n",
              "    background-color: var(--disabled-bg-color);\n",
              "    fill: var(--disabled-fill-color);\n",
              "    box-shadow: none;\n",
              "  }\n",
              "\n",
              "  .colab-df-spinner {\n",
              "    border: 2px solid var(--fill-color);\n",
              "    border-color: transparent;\n",
              "    border-bottom-color: var(--fill-color);\n",
              "    animation:\n",
              "      spin 1s steps(1) infinite;\n",
              "  }\n",
              "\n",
              "  @keyframes spin {\n",
              "    0% {\n",
              "      border-color: transparent;\n",
              "      border-bottom-color: var(--fill-color);\n",
              "      border-left-color: var(--fill-color);\n",
              "    }\n",
              "    20% {\n",
              "      border-color: transparent;\n",
              "      border-left-color: var(--fill-color);\n",
              "      border-top-color: var(--fill-color);\n",
              "    }\n",
              "    30% {\n",
              "      border-color: transparent;\n",
              "      border-left-color: var(--fill-color);\n",
              "      border-top-color: var(--fill-color);\n",
              "      border-right-color: var(--fill-color);\n",
              "    }\n",
              "    40% {\n",
              "      border-color: transparent;\n",
              "      border-right-color: var(--fill-color);\n",
              "      border-top-color: var(--fill-color);\n",
              "    }\n",
              "    60% {\n",
              "      border-color: transparent;\n",
              "      border-right-color: var(--fill-color);\n",
              "    }\n",
              "    80% {\n",
              "      border-color: transparent;\n",
              "      border-right-color: var(--fill-color);\n",
              "      border-bottom-color: var(--fill-color);\n",
              "    }\n",
              "    90% {\n",
              "      border-color: transparent;\n",
              "      border-bottom-color: var(--fill-color);\n",
              "    }\n",
              "  }\n",
              "</style>\n",
              "\n",
              "      <script>\n",
              "        async function quickchart(key) {\n",
              "          const quickchartButtonEl =\n",
              "            document.querySelector('#' + key + ' button');\n",
              "          quickchartButtonEl.disabled = true;  // To prevent multiple clicks.\n",
              "          quickchartButtonEl.classList.add('colab-df-spinner');\n",
              "          try {\n",
              "            const charts = await google.colab.kernel.invokeFunction(\n",
              "                'suggestCharts', [key], {});\n",
              "          } catch (error) {\n",
              "            console.error('Error during call to suggestCharts:', error);\n",
              "          }\n",
              "          quickchartButtonEl.classList.remove('colab-df-spinner');\n",
              "          quickchartButtonEl.classList.add('colab-df-quickchart-complete');\n",
              "        }\n",
              "        (() => {\n",
              "          let quickchartButtonEl =\n",
              "            document.querySelector('#df-6eb3714c-f27a-4cbd-9ff8-c08699062eba button');\n",
              "          quickchartButtonEl.style.display =\n",
              "            google.colab.kernel.accessAllowed ? 'block' : 'none';\n",
              "        })();\n",
              "      </script>\n",
              "    </div>\n",
              "\n",
              "    </div>\n",
              "  </div>\n"
            ],
            "application/vnd.google.colaboratory.intrinsic+json": {
              "type": "dataframe",
              "summary": "{\n  \"name\": \"df\",\n  \"rows\": 10,\n  \"fields\": [\n    {\n      \"column\": \"textID\",\n      \"properties\": {\n        \"dtype\": \"string\",\n        \"num_unique_values\": 10,\n        \"samples\": [\n          \"3ceefccbc8\",\n          \"d6daf5cd2b\",\n          \"7b7f672bff\"\n        ],\n        \"semantic_type\": \"\",\n        \"description\": \"\"\n      }\n    },\n    {\n      \"column\": \"text\",\n      \"properties\": {\n        \"dtype\": \"string\",\n        \"num_unique_values\": 10,\n        \"samples\": [\n          \" most definately! They are having a hard time, cuz I`m so young & never saw this, but I wrkd hard making cars & now I`m disabled\",\n          \" my boss. She`s moving to NYC\",\n          \"tonight in party w/ my girls (minus vita)\"\n        ],\n        \"semantic_type\": \"\",\n        \"description\": \"\"\n      }\n    },\n    {\n      \"column\": \"selected_text\",\n      \"properties\": {\n        \"dtype\": \"string\",\n        \"num_unique_values\": 10,\n        \"samples\": [\n          \"They are having a hard time,\",\n          \"my boss. She`s moving to NYC\",\n          \"tonight in party w/ my girls (minus vita)\"\n        ],\n        \"semantic_type\": \"\",\n        \"description\": \"\"\n      }\n    },\n    {\n      \"column\": \"sentiment\",\n      \"properties\": {\n        \"dtype\": \"category\",\n        \"num_unique_values\": 3,\n        \"samples\": [\n          \"neutral\",\n          \"negative\",\n          \"positive\"\n        ],\n        \"semantic_type\": \"\",\n        \"description\": \"\"\n      }\n    },\n    {\n      \"column\": \"removed_stop_words\",\n      \"properties\": {\n        \"dtype\": \"object\",\n        \"semantic_type\": \"\",\n        \"description\": \"\"\n      }\n    },\n    {\n      \"column\": \"processed_text\",\n      \"properties\": {\n        \"dtype\": \"string\",\n        \"num_unique_values\": 10,\n        \"samples\": [\n          \"definately hard time cuz young never see wrkd hard make car disabled\",\n          \"boss move nyc\",\n          \"tonight party w girl minus vita\"\n        ],\n        \"semantic_type\": \"\",\n        \"description\": \"\"\n      }\n    }\n  ]\n}"
            }
          },
          "metadata": {},
          "execution_count": 22
        }
      ],
      "execution_count": 22
    },
    {
      "id": "b929b1cc-51fb-47df-a24e-069b0732d5bb",
      "cell_type": "code",
      "source": [
        "from wordcloud import WordCloud\n",
        "import matplotlib.pyplot as plt\n",
        "\n",
        "# Define the unique sentiment classes you want to generate clouds for\n",
        "sentiments = ['neutral', 'positive', 'negative']\n",
        "\n",
        "# Loop through each class\n",
        "for sentiment in sentiments:\n",
        "    # Filter the DataFrame by sentiment class\n",
        "    subset = df[df['sentiment'] == sentiment]\n",
        "\n",
        "    # Flatten the token lists into a single string\n",
        "    all_words = ' '.join([' '.join(tokens) for tokens in subset['removed_stop_words']])\n",
        "\n",
        "    # Generate the word cloud\n",
        "    wc = WordCloud(width=800, height=400, background_color='white').generate(all_words)\n",
        "\n",
        "    # Display the word cloud (optional)\n",
        "    plt.figure(figsize=(10, 5))\n",
        "    plt.imshow(wc, interpolation='bilinear')\n",
        "    plt.axis('off')\n",
        "    plt.title(f'{sentiment.capitalize()} WordCloud', fontsize=16)\n",
        "\n",
        "    # Save the figure locally\n",
        "    filename = f\"{sentiment}_wordcloud.png\"\n",
        "    plt.savefig(filename, bbox_inches='tight')\n",
        "    plt.close()  # Close the plot to avoid displaying all of them in notebook\n",
        "\n",
        "    print(f\"Saved: {filename}\")\n"
      ],
      "metadata": {
        "trusted": true,
        "execution": {
          "iopub.status.busy": "2025-06-04T12:08:39.448414Z",
          "iopub.execute_input": "2025-06-04T12:08:39.448775Z",
          "iopub.status.idle": "2025-06-04T12:08:43.985258Z",
          "shell.execute_reply.started": "2025-06-04T12:08:39.448753Z",
          "shell.execute_reply": "2025-06-04T12:08:43.983951Z"
        },
        "id": "b929b1cc-51fb-47df-a24e-069b0732d5bb",
        "outputId": "73d5f544-9e40-49eb-bf84-d408d6cb7099",
        "colab": {
          "base_uri": "https://localhost:8080/"
        }
      },
      "outputs": [
        {
          "output_type": "stream",
          "name": "stdout",
          "text": [
            "Saved: neutral_wordcloud.png\n",
            "Saved: positive_wordcloud.png\n",
            "Saved: negative_wordcloud.png\n"
          ]
        }
      ],
      "execution_count": 24
    },
    {
      "cell_type": "code",
      "source": [
        "import numpy as np\n",
        "import pandas as pd\n",
        "import matplotlib.pyplot as plt\n",
        "import tensorflow as tf\n",
        "from tensorflow.keras.preprocessing.text import Tokenizer\n",
        "from tensorflow.keras.preprocessing.sequence import pad_sequences\n",
        "from tensorflow.keras.models import Sequential\n",
        "from tensorflow.keras.layers import Embedding, LSTM, Dense, Dropout\n",
        "from sklearn.model_selection import train_test_split\n",
        "from sklearn.preprocessing import LabelEncoder\n",
        "from sklearn.metrics import classification_report, f1_score"
      ],
      "metadata": {
        "id": "3Iu8VrVdKT44"
      },
      "id": "3Iu8VrVdKT44",
      "execution_count": 25,
      "outputs": []
    },
    {
      "cell_type": "code",
      "source": [
        "# Parametri\n",
        "MAX_NUM_WORDS = 20000\n",
        "MAX_SEQUENCE_LENGTH = 100\n",
        "EMBEDDING_DIM = 100"
      ],
      "metadata": {
        "id": "nQUepn4zKkUb"
      },
      "id": "nQUepn4zKkUb",
      "execution_count": 26,
      "outputs": []
    },
    {
      "cell_type": "code",
      "source": [
        "# ============================\n",
        "# 3. Tokenizzazione e Padding\n",
        "# ============================\n",
        "\n",
        "tokenizer = Tokenizer(num_words=MAX_NUM_WORDS)\n",
        "tokenizer.fit_on_texts(df[\"processed_text\"])\n",
        "sequences = tokenizer.texts_to_sequences(df[\"processed_text\"])\n",
        "X_seq = pad_sequences(sequences, maxlen=MAX_SEQUENCE_LENGTH)"
      ],
      "metadata": {
        "id": "pfWUJL2hK0rP"
      },
      "id": "pfWUJL2hK0rP",
      "execution_count": 27,
      "outputs": []
    },
    {
      "cell_type": "code",
      "source": [
        "# ============================\n",
        "# 4. Encoding etichette\n",
        "# ============================\n",
        "\n",
        "le = LabelEncoder()\n",
        "y_encoded = le.fit_transform(df[\"sentiment\"])"
      ],
      "metadata": {
        "id": "qBanHENGLP4M"
      },
      "id": "qBanHENGLP4M",
      "execution_count": 28,
      "outputs": []
    },
    {
      "cell_type": "code",
      "source": [
        "# ============================\n",
        "# 5. Train / Val / Test Split\n",
        "# ============================\n",
        "\n",
        "X_train_seq, X_temp_seq, y_train_enc, y_temp_enc = train_test_split(\n",
        "    X_seq, y_encoded, test_size=0.30, stratify=y_encoded, random_state=42\n",
        ")\n",
        "X_val_seq, X_test_seq, y_val_enc, y_test_enc = train_test_split(\n",
        "    X_temp_seq, y_temp_enc, test_size=0.50, stratify=y_temp_enc, random_state=42\n",
        ")"
      ],
      "metadata": {
        "id": "vAT25Z0gLVcs"
      },
      "id": "vAT25Z0gLVcs",
      "execution_count": 29,
      "outputs": []
    },
    {
      "cell_type": "code",
      "source": [
        "from google.colab import drive\n",
        "drive.mount('/content/drive')"
      ],
      "metadata": {
        "id": "5PXqt08sQcHT",
        "outputId": "54784e14-4d7c-48c7-c3bd-442287fe87b2",
        "colab": {
          "base_uri": "https://localhost:8080/"
        }
      },
      "id": "5PXqt08sQcHT",
      "execution_count": 31,
      "outputs": [
        {
          "output_type": "stream",
          "name": "stdout",
          "text": [
            "Mounted at /content/drive\n"
          ]
        }
      ]
    },
    {
      "cell_type": "code",
      "source": [
        "# 📁 Percorso al file GloVe (modifica se sta in una sottocartella)\n",
        "glove_path = \"/content/drive/MyDrive/glove.6B.100d.txt\"\n",
        "\n",
        "# 📥 Caricamento GloVe\n",
        "embedding_index = {}\n",
        "with open(glove_path, encoding=\"utf-8\") as f:\n",
        "    for line in f:\n",
        "        values = line.split()\n",
        "        word = values[0]\n",
        "        coefs = np.asarray(values[1:], dtype=\"float32\")\n",
        "        embedding_index[word] = coefs\n",
        "\n",
        "print(\"Caricate parole:\", len(embedding_index))"
      ],
      "metadata": {
        "id": "GYxWiS82LXd5",
        "outputId": "efbe8812-3113-43ea-a8e0-8799a25b1a7d",
        "colab": {
          "base_uri": "https://localhost:8080/"
        }
      },
      "id": "GYxWiS82LXd5",
      "execution_count": 32,
      "outputs": [
        {
          "output_type": "stream",
          "name": "stdout",
          "text": [
            "Caricate parole: 400000\n"
          ]
        }
      ]
    },
    {
      "cell_type": "code",
      "source": [
        "# ============================\n",
        "# 7. Creazione embedding matrix\n",
        "# ============================\n",
        "\n",
        "word_index = tokenizer.word_index\n",
        "embedding_matrix = np.zeros((MAX_NUM_WORDS, EMBEDDING_DIM))\n",
        "for word, i in word_index.items():\n",
        "    if i < MAX_NUM_WORDS:\n",
        "        embedding_vector = embedding_index.get(word)\n",
        "        if embedding_vector is not None:\n",
        "            embedding_matrix[i] = embedding_vector"
      ],
      "metadata": {
        "id": "QPebluTSLbSG"
      },
      "id": "QPebluTSLbSG",
      "execution_count": 33,
      "outputs": []
    },
    {
      "cell_type": "code",
      "source": [
        "# ============================\n",
        "# 8. Definizione modello LSTM\n",
        "# ============================\n",
        "\n",
        "model = Sequential([\n",
        "    Embedding(MAX_NUM_WORDS, EMBEDDING_DIM, weights=[embedding_matrix],\n",
        "              input_length=MAX_SEQUENCE_LENGTH, trainable=False),\n",
        "    LSTM(128, dropout=0.2, recurrent_dropout=0.2),\n",
        "    Dense(3, activation='softmax')  # 3 classi: positive, neutral, negative\n",
        "])\n",
        "\n",
        "model.compile(loss='sparse_categorical_crossentropy', optimizer='adam', metrics=['accuracy'])"
      ],
      "metadata": {
        "id": "RVwhEJDULjAQ",
        "outputId": "7d9ef0bf-0caa-4919-9d4b-112666788f83",
        "colab": {
          "base_uri": "https://localhost:8080/"
        }
      },
      "id": "RVwhEJDULjAQ",
      "execution_count": 34,
      "outputs": [
        {
          "output_type": "stream",
          "name": "stderr",
          "text": [
            "/usr/local/lib/python3.11/dist-packages/keras/src/layers/core/embedding.py:90: UserWarning: Argument `input_length` is deprecated. Just remove it.\n",
            "  warnings.warn(\n"
          ]
        }
      ]
    },
    {
      "cell_type": "code",
      "source": [
        "# ============================\n",
        "# 9. Addestramento\n",
        "# ============================\n",
        "\n",
        "history = model.fit(X_train_seq, y_train_enc,\n",
        "                    validation_data=(X_val_seq, y_val_enc),\n",
        "                    epochs=5, batch_size=64)"
      ],
      "metadata": {
        "id": "6F78jRNkLnoR",
        "outputId": "8902ba3a-2c56-4afe-92cf-0e76771497ad",
        "colab": {
          "base_uri": "https://localhost:8080/"
        }
      },
      "id": "6F78jRNkLnoR",
      "execution_count": 35,
      "outputs": [
        {
          "output_type": "stream",
          "name": "stdout",
          "text": [
            "Epoch 1/5\n",
            "\u001b[1m271/271\u001b[0m \u001b[32m━━━━━━━━━━━━━━━━━━━━\u001b[0m\u001b[37m\u001b[0m \u001b[1m80s\u001b[0m 273ms/step - accuracy: 0.5385 - loss: 0.9640 - val_accuracy: 0.6456 - val_loss: 0.8056\n",
            "Epoch 2/5\n",
            "\u001b[1m271/271\u001b[0m \u001b[32m━━━━━━━━━━━━━━━━━━━━\u001b[0m\u001b[37m\u001b[0m \u001b[1m80s\u001b[0m 265ms/step - accuracy: 0.6512 - loss: 0.7976 - val_accuracy: 0.6854 - val_loss: 0.7455\n",
            "Epoch 3/5\n",
            "\u001b[1m271/271\u001b[0m \u001b[32m━━━━━━━━━━━━━━━━━━━━\u001b[0m\u001b[37m\u001b[0m \u001b[1m72s\u001b[0m 266ms/step - accuracy: 0.6676 - loss: 0.7595 - val_accuracy: 0.6933 - val_loss: 0.7222\n",
            "Epoch 4/5\n",
            "\u001b[1m271/271\u001b[0m \u001b[32m━━━━━━━━━━━━━━━━━━━━\u001b[0m\u001b[37m\u001b[0m \u001b[1m85s\u001b[0m 276ms/step - accuracy: 0.6950 - loss: 0.7190 - val_accuracy: 0.6976 - val_loss: 0.7078\n",
            "Epoch 5/5\n",
            "\u001b[1m271/271\u001b[0m \u001b[32m━━━━━━━━━━━━━━━━━━━━\u001b[0m\u001b[37m\u001b[0m \u001b[1m79s\u001b[0m 267ms/step - accuracy: 0.6984 - loss: 0.7044 - val_accuracy: 0.7073 - val_loss: 0.6882\n"
          ]
        }
      ]
    },
    {
      "cell_type": "code",
      "source": [
        "# ============================\n",
        "# 10. Valutazione\n",
        "# ============================\n",
        "\n",
        "y_pred = model.predict(X_test_seq).argmax(axis=1)\n",
        "print(\"=== CLASSIFICATION REPORT ===\")\n",
        "print(classification_report(y_test_enc, y_pred, target_names=le.classes_))\n",
        "print(\"Macro F1:\", f1_score(y_test_enc, y_pred, average='macro'))"
      ],
      "metadata": {
        "id": "mvePkOXHLp7_",
        "outputId": "4ca3a28e-f88f-478f-e636-183f9834d20f",
        "colab": {
          "base_uri": "https://localhost:8080/"
        }
      },
      "id": "mvePkOXHLp7_",
      "execution_count": 36,
      "outputs": [
        {
          "output_type": "stream",
          "name": "stdout",
          "text": [
            "\u001b[1m116/116\u001b[0m \u001b[32m━━━━━━━━━━━━━━━━━━━━\u001b[0m\u001b[37m\u001b[0m \u001b[1m10s\u001b[0m 79ms/step\n",
            "=== CLASSIFICATION REPORT ===\n",
            "              precision    recall  f1-score   support\n",
            "\n",
            "    negative       0.74      0.64      0.69      1051\n",
            "     neutral       0.67      0.72      0.69      1503\n",
            "    positive       0.75      0.77      0.76      1156\n",
            "\n",
            "    accuracy                           0.71      3710\n",
            "   macro avg       0.72      0.71      0.71      3710\n",
            "weighted avg       0.71      0.71      0.71      3710\n",
            "\n",
            "Macro F1: 0.7133920243270886\n"
          ]
        }
      ]
    },
    {
      "cell_type": "code",
      "source": [
        "# ============================\n",
        "# 11. Grafici\n",
        "# ============================\n",
        "\n",
        "plt.plot(history.history['accuracy'], label='Train Accuracy')\n",
        "plt.plot(history.history['val_accuracy'], label='Val Accuracy')\n",
        "plt.title('Accuracy')\n",
        "plt.legend()\n",
        "plt.show()\n",
        "\n",
        "plt.plot(history.history['loss'], label='Train Loss')\n",
        "plt.plot(history.history['val_loss'], label='Val Loss')\n",
        "plt.title('Loss')\n",
        "plt.legend()\n",
        "plt.show()"
      ],
      "metadata": {
        "id": "IjEUqinfLrpt",
        "outputId": "ee780a2f-4a78-4611-dd96-672c0cf5072a",
        "colab": {
          "base_uri": "https://localhost:8080/",
          "height": 887
        }
      },
      "id": "IjEUqinfLrpt",
      "execution_count": 37,
      "outputs": [
        {
          "output_type": "display_data",
          "data": {
            "text/plain": [
              "<Figure size 640x480 with 1 Axes>"
            ],
            "image/png": "[encoded data removed]"
          },
          "metadata": {}
        },
        {
          "output_type": "display_data",
          "data": {
            "text/plain": [
              "<Figure size 640x480 with 1 Axes>"
            ],
            "image/png": "[encoded data removed]"
          },
          "metadata": {}
        }
      ]
    },
    {
      "cell_type": "code",
      "source": [
        "!pip install keras-tuner --quiet  # solo la prima volta\n",
        "\n",
        "from kerastuner.tuners import RandomSearch\n",
        "from tensorflow.keras.models import Sequential\n",
        "from tensorflow.keras.layers import Embedding, LSTM, Dense\n",
        "from tensorflow.keras.optimizers import Adam\n",
        "\n",
        "def build_model(hp):\n",
        "    model = Sequential()\n",
        "    model.add(Embedding(MAX_NUM_WORDS, EMBEDDING_DIM,\n",
        "                        weights=[embedding_matrix],\n",
        "                        input_length=MAX_SEQUENCE_LENGTH,\n",
        "                        trainable=False))\n",
        "\n",
        "    model.add(LSTM(\n",
        "        units=hp.Int('units', min_value=64, max_value=256, step=64),\n",
        "        dropout=hp.Choice('dropout', values=[0.2, 0.3, 0.4]),\n",
        "        recurrent_dropout=hp.Choice('recurrent_dropout', values=[0.2, 0.3])\n",
        "    ))\n",
        "\n",
        "    model.add(Dense(3, activation='softmax'))\n",
        "\n",
        "    model.compile(\n",
        "        optimizer=Adam(learning_rate=hp.Choice('lr', [1e-3, 1e-4])),\n",
        "        loss='sparse_categorical_crossentropy',\n",
        "        metrics=['accuracy']\n",
        "    )\n",
        "    return model\n",
        "\n",
        "tuner = RandomSearch(\n",
        "    build_model,\n",
        "    objective='val_accuracy',\n",
        "    max_trials=5,\n",
        "    executions_per_trial=1,\n",
        "    directory='tuner_results',\n",
        "    project_name='glove_lstm_tuning'\n",
        ")\n",
        "\n",
        "tuner.search(X_train_seq, y_train_enc,\n",
        "             validation_data=(X_val_seq, y_val_enc),\n",
        "             epochs=5, batch_size=64)\n",
        "\n",
        "# Miglior modello trovato\n",
        "best_model = tuner.get_best_models(num_models=1)[0]"
      ],
      "metadata": {
        "id": "zVS-LbCNTnDn",
        "outputId": "f612d51c-ee8a-4aa8-95ab-8c5e92beb16d",
        "colab": {
          "base_uri": "https://localhost:8080/"
        }
      },
      "id": "zVS-LbCNTnDn",
      "execution_count": 38,
      "outputs": [
        {
          "output_type": "stream",
          "name": "stdout",
          "text": [
            "Trial 5 Complete [00h 16m 09s]\n",
            "val_accuracy: 0.7053908109664917\n",
            "\n",
            "Best val_accuracy So Far: 0.7053908109664917\n",
            "Total elapsed time: 01h 25m 57s\n"
          ]
        },
        {
          "output_type": "stream",
          "name": "stderr",
          "text": [
            "/usr/local/lib/python3.11/dist-packages/keras/src/saving/saving_lib.py:757: UserWarning: Skipping variable loading for optimizer 'adam', because it has 2 variables whereas the saved optimizer has 12 variables. \n",
            "  saveable.load_own_variables(weights_store.get(inner_path))\n"
          ]
        }
      ]
    },
    {
      "cell_type": "code",
      "source": [
        "# ============================\n",
        "# 10. Valutazione del modello\n",
        "# ============================\n",
        "\n",
        "# Predizione sul test set\n",
        "y_pred = best_model.predict(X_test_seq).argmax(axis=1)\n",
        "\n",
        "# Classification report e F1\n",
        "from sklearn.metrics import classification_report, f1_score\n",
        "\n",
        "print(\"=== CLASSIFICATION REPORT ===\")\n",
        "print(classification_report(y_test_enc, y_pred, target_names=le.classes_))\n",
        "print(\"Macro F1:\", f1_score(y_test_enc, y_pred, average='macro'))"
      ],
      "metadata": {
        "id": "pL3SnzU0VDG1",
        "outputId": "2b4aa8c6-34d5-40da-be04-e74d6a8907f0",
        "colab": {
          "base_uri": "https://localhost:8080/"
        }
      },
      "id": "pL3SnzU0VDG1",
      "execution_count": 39,
      "outputs": [
        {
          "output_type": "stream",
          "name": "stdout",
          "text": [
            "\u001b[1m116/116\u001b[0m \u001b[32m━━━━━━━━━━━━━━━━━━━━\u001b[0m\u001b[37m\u001b[0m \u001b[1m17s\u001b[0m 138ms/step\n",
            "=== CLASSIFICATION REPORT ===\n",
            "              precision    recall  f1-score   support\n",
            "\n",
            "    negative       0.71      0.68      0.69      1051\n",
            "     neutral       0.67      0.70      0.69      1503\n",
            "    positive       0.76      0.76      0.76      1156\n",
            "\n",
            "    accuracy                           0.71      3710\n",
            "   macro avg       0.72      0.71      0.71      3710\n",
            "weighted avg       0.71      0.71      0.71      3710\n",
            "\n",
            "Macro F1: 0.7132253093759909\n"
          ]
        }
      ]
    },
    {
      "cell_type": "code",
      "source": [
        "# ============================\n",
        "# Grafici (accuratezza e perdita NON disponibili con tuner, quindi riaddestriamo per plot)\n",
        "# ============================\n",
        "\n",
        "# Riaddestramento (opzionale) per ottenere i grafici\n",
        "history = best_model.fit(X_train_seq, y_train_enc,\n",
        "                         validation_data=(X_val_seq, y_val_enc),\n",
        "                         epochs=5, batch_size=64)\n",
        "\n",
        "import matplotlib.pyplot as plt\n",
        "\n",
        "# Accuracy\n",
        "plt.plot(history.history['accuracy'], label='Train Accuracy')\n",
        "plt.plot(history.history['val_accuracy'], label='Val Accuracy')\n",
        "plt.title('Accuracy')\n",
        "plt.xlabel('Epoch')\n",
        "plt.ylabel('Accuracy')\n",
        "plt.legend()\n",
        "plt.show()\n",
        "\n",
        "# Loss\n",
        "plt.plot(history.history['loss'], label='Train Loss')\n",
        "plt.plot(history.history['val_loss'], label='Val Loss')\n",
        "plt.title('Loss')\n",
        "plt.xlabel('Epoch')\n",
        "plt.ylabel('Loss')\n",
        "plt.legend()\n",
        "plt.show()"
      ],
      "metadata": {
        "id": "AcfGS6mxVaXN",
        "outputId": "c794a47e-35e2-44a7-c417-a477e1b308f1",
        "colab": {
          "base_uri": "https://localhost:8080/",
          "height": 1000
        }
      },
      "id": "AcfGS6mxVaXN",
      "execution_count": 40,
      "outputs": [
        {
          "output_type": "stream",
          "name": "stdout",
          "text": [
            "Epoch 1/5\n",
            "\u001b[1m271/271\u001b[0m \u001b[32m━━━━━━━━━━━━━━━━━━━━\u001b[0m\u001b[37m\u001b[0m \u001b[1m188s\u001b[0m 677ms/step - accuracy: 0.6925 - loss: 0.7158 - val_accuracy: 0.7075 - val_loss: 0.6859\n",
            "Epoch 2/5\n",
            "\u001b[1m271/271\u001b[0m \u001b[32m━━━━━━━━━━━━━━━━━━━━\u001b[0m\u001b[37m\u001b[0m \u001b[1m197s\u001b[0m 659ms/step - accuracy: 0.7000 - loss: 0.7135 - val_accuracy: 0.7146 - val_loss: 0.6845\n",
            "Epoch 3/5\n",
            "\u001b[1m271/271\u001b[0m \u001b[32m━━━━━━━━━━━━━━━━━━━━\u001b[0m\u001b[37m\u001b[0m \u001b[1m213s\u001b[0m 696ms/step - accuracy: 0.7081 - loss: 0.6890 - val_accuracy: 0.7156 - val_loss: 0.6776\n",
            "Epoch 4/5\n",
            "\u001b[1m271/271\u001b[0m \u001b[32m━━━━━━━━━━━━━━━━━━━━\u001b[0m\u001b[37m\u001b[0m \u001b[1m198s\u001b[0m 685ms/step - accuracy: 0.7171 - loss: 0.6738 - val_accuracy: 0.7240 - val_loss: 0.6693\n",
            "Epoch 5/5\n",
            "\u001b[1m271/271\u001b[0m \u001b[32m━━━━━━━━━━━━━━━━━━━━\u001b[0m\u001b[37m\u001b[0m \u001b[1m194s\u001b[0m 658ms/step - accuracy: 0.7203 - loss: 0.6642 - val_accuracy: 0.7229 - val_loss: 0.6739\n"
          ]
        },
        {
          "output_type": "display_data",
          "data": {
            "text/plain": [
              "<Figure size 640x480 with 1 Axes>"
            ],
            "image/png": "[encoded data removed]"
          },
          "metadata": {}
        },
        {
          "output_type": "display_data",
          "data": {
            "text/plain": [
              "<Figure size 640x480 with 1 Axes>"
            ],
            "image/png": "[encoded data removed]"
          },
          "metadata": {}
        }
      ]
    },
    {
      "cell_type": "code",
      "source": [
        "from sklearn.metrics import confusion_matrix, ConfusionMatrixDisplay\n",
        "\n",
        "# Confusion Matrix\n",
        "cm = confusion_matrix(y_test_enc, y_pred)\n",
        "\n",
        "# Display con etichette leggibili\n",
        "disp = ConfusionMatrixDisplay(confusion_matrix=cm, display_labels=le.classes_)\n",
        "disp.plot(cmap='Blues', values_format='d')  # 'd' = integer\n",
        "plt.title(\"Confusion Matrix (Test Set)\")\n",
        "plt.show()"
      ],
      "metadata": {
        "id": "A9RecZV6pNoD",
        "outputId": "ce4573f9-68c6-417b-afe6-3593777e5252",
        "colab": {
          "base_uri": "https://localhost:8080/",
          "height": 472
        }
      },
      "id": "A9RecZV6pNoD",
      "execution_count": 41,
      "outputs": [
        {
          "output_type": "display_data",
          "data": {
            "text/plain": [
              "<Figure size 640x480 with 2 Axes>"
            ],
            "image/png": "[encoded data removed]"
          },
          "metadata": {}
        }
      ]
    }
  ]
}